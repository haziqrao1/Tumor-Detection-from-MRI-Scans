{
  "nbformat": 4,
  "nbformat_minor": 0,
  "metadata": {
    "colab": {
      "name": "DIP_Project.ipynb",
      "provenance": [],
      "collapsed_sections": []
    },
    "kernelspec": {
      "display_name": "Python 3",
      "name": "python3"
    },
    "language_info": {
      "name": "python"
    }
  },
  "cells": [
    {
      "cell_type": "code",
      "metadata": {
        "colab": {
          "base_uri": "https://localhost:8080/"
        },
        "id": "rGbtJ2ST7fx_",
        "outputId": "287ec9c1-c968-4f51-e318-d71e03254cbd"
      },
      "source": [
        "from google.colab import drive\n",
        "drive.mount('/content/drive')"
      ],
      "execution_count": null,
      "outputs": [
        {
          "output_type": "stream",
          "text": [
            "Mounted at /content/drive\n"
          ],
          "name": "stdout"
        }
      ]
    },
    {
      "cell_type": "markdown",
      "metadata": {
        "id": "ZgDZBYr4eHr0"
      },
      "source": [
        "Muhammad Haziq Rao\n",
        "\n",
        "Afaq Asif"
      ]
    },
    {
      "cell_type": "code",
      "metadata": {
        "id": "gDQVeqIzf9d-"
      },
      "source": [
        "import numpy as np\n",
        "import cv2\n",
        "import os\n",
        "import pickle\n",
        "import glob\n",
        "from sklearn.utils import shuffle \n",
        "from sklearn import svm,metrics\n",
        "from sklearn.model_selection import GridSearchCV\n",
        "from sklearn.ensemble import VotingClassifier\n",
        "from sklearn.metrics import log_loss\n",
        "from sklearn.neighbors import KNeighborsClassifier\n",
        "from sklearn.model_selection import train_test_split"
      ],
      "execution_count": null,
      "outputs": []
    },
    {
      "cell_type": "code",
      "metadata": {
        "id": "Ao9rL_WgjpAA"
      },
      "source": [
        "dsize = (224,224)"
      ],
      "execution_count": null,
      "outputs": []
    },
    {
      "cell_type": "code",
      "metadata": {
        "id": "beNu8J3VgFPY"
      },
      "source": [
        "img_dir = \"/content/drive/MyDrive/brain_tumor/no\"\n",
        "data_path = os.path.join(img_dir,'*') \n",
        "no_images = glob.glob(data_path) \n",
        "data_no = [] \n",
        "for i in no_images: \n",
        "    img = cv2.imread(i)\n",
        "    img = cv2.resize(img,dsize) \n",
        "    img = img / 255.\n",
        "    data_no.append(img)"
      ],
      "execution_count": null,
      "outputs": []
    },
    {
      "cell_type": "code",
      "metadata": {
        "colab": {
          "base_uri": "https://localhost:8080/"
        },
        "id": "rPU2WZnxgi5m",
        "outputId": "5b7c8609-db5b-4849-d127-6835194fa1d6"
      },
      "source": [
        "len(data_no)"
      ],
      "execution_count": null,
      "outputs": [
        {
          "output_type": "execute_result",
          "data": {
            "text/plain": [
              "98"
            ]
          },
          "metadata": {
            "tags": []
          },
          "execution_count": 11
        }
      ]
    },
    {
      "cell_type": "code",
      "metadata": {
        "colab": {
          "base_uri": "https://localhost:8080/"
        },
        "id": "yQArTpwWgmH0",
        "outputId": "4f8b76de-d5bd-49a9-8d32-982d34906a0f"
      },
      "source": [
        "data_no[0].shape"
      ],
      "execution_count": null,
      "outputs": [
        {
          "output_type": "execute_result",
          "data": {
            "text/plain": [
              "(224, 224, 3)"
            ]
          },
          "metadata": {
            "tags": []
          },
          "execution_count": 12
        }
      ]
    },
    {
      "cell_type": "code",
      "metadata": {
        "id": "4vlFtcpsj_4b"
      },
      "source": [
        "img_dir = \"/content/drive/MyDrive/brain_tumor/yes/\"\n",
        "data_path = os.path.join(img_dir,'*') \n",
        "no_images = glob.glob(data_path) \n",
        "data_yes = []\n",
        "k=0 \n",
        "for i in no_images: \n",
        "    img = cv2.imread(i)\n",
        "    img = cv2.resize(img,dsize) \n",
        "    img = img / 255.\n",
        "    data_yes.append(img)"
      ],
      "execution_count": null,
      "outputs": []
    },
    {
      "cell_type": "code",
      "metadata": {
        "id": "684x7PfCkl15",
        "colab": {
          "base_uri": "https://localhost:8080/"
        },
        "outputId": "e8642661-1017-49d8-a488-a0df48d369bc"
      },
      "source": [
        "len(data_yes)"
      ],
      "execution_count": null,
      "outputs": [
        {
          "output_type": "execute_result",
          "data": {
            "text/plain": [
              "155"
            ]
          },
          "metadata": {
            "tags": []
          },
          "execution_count": 14
        }
      ]
    },
    {
      "cell_type": "code",
      "metadata": {
        "id": "OzONH6GIkpnJ",
        "colab": {
          "base_uri": "https://localhost:8080/"
        },
        "outputId": "d8b7fcdf-61f9-457c-c623-e1ccf70f7b5a"
      },
      "source": [
        "data_yes[0].shape"
      ],
      "execution_count": null,
      "outputs": [
        {
          "output_type": "execute_result",
          "data": {
            "text/plain": [
              "(224, 224, 3)"
            ]
          },
          "metadata": {
            "tags": []
          },
          "execution_count": 15
        }
      ]
    },
    {
      "cell_type": "code",
      "metadata": {
        "id": "7bTZzCC7krC1"
      },
      "source": [
        "X = []\n",
        "y = []\n",
        "for i in data_yes:\n",
        "  X.append(i)\n",
        "  y.append(1)\n"
      ],
      "execution_count": null,
      "outputs": []
    },
    {
      "cell_type": "code",
      "metadata": {
        "id": "WZHmcXYd5UsV"
      },
      "source": [
        "for i in data_no:\n",
        "  X.append(i)\n",
        "  y.append(0)\n"
      ],
      "execution_count": null,
      "outputs": []
    },
    {
      "cell_type": "code",
      "metadata": {
        "id": "GMjucHGR6T4S",
        "colab": {
          "base_uri": "https://localhost:8080/"
        },
        "outputId": "d2811475-d2c9-401c-87de-8a0335acf62c"
      },
      "source": [
        "len(X)"
      ],
      "execution_count": null,
      "outputs": [
        {
          "output_type": "execute_result",
          "data": {
            "text/plain": [
              "253"
            ]
          },
          "metadata": {
            "tags": []
          },
          "execution_count": 18
        }
      ]
    },
    {
      "cell_type": "code",
      "metadata": {
        "id": "3xlgpuM16YXc",
        "colab": {
          "base_uri": "https://localhost:8080/"
        },
        "outputId": "7028fd8f-1bd9-43fd-8526-96ed6f66452b"
      },
      "source": [
        "X = np.array(X)\n",
        "y = np.array(y)\n",
        "y.shape"
      ],
      "execution_count": null,
      "outputs": [
        {
          "output_type": "execute_result",
          "data": {
            "text/plain": [
              "(253,)"
            ]
          },
          "metadata": {
            "tags": []
          },
          "execution_count": 19
        }
      ]
    },
    {
      "cell_type": "code",
      "metadata": {
        "id": "ezNDdud-8LYi",
        "colab": {
          "base_uri": "https://localhost:8080/"
        },
        "outputId": "5022b5a2-4c8a-47a6-fe24-1bf72d01f042"
      },
      "source": [
        "X,y = shuffle(X,y)\n",
        "y.shape"
      ],
      "execution_count": null,
      "outputs": [
        {
          "output_type": "execute_result",
          "data": {
            "text/plain": [
              "(253,)"
            ]
          },
          "metadata": {
            "tags": []
          },
          "execution_count": 20
        }
      ]
    },
    {
      "cell_type": "code",
      "metadata": {
        "id": "xxBH_B9i-I9W",
        "colab": {
          "base_uri": "https://localhost:8080/"
        },
        "outputId": "d5dbdf7a-e353-4d35-e9aa-c4d54c0c2a3a"
      },
      "source": [
        "X_train,X_test ,y_train, y_test =  train_test_split(X, y, test_size=0.2)\n",
        "y_train.shape"
      ],
      "execution_count": null,
      "outputs": [
        {
          "output_type": "execute_result",
          "data": {
            "text/plain": [
              "(202,)"
            ]
          },
          "metadata": {
            "tags": []
          },
          "execution_count": 21
        }
      ]
    },
    {
      "cell_type": "code",
      "metadata": {
        "id": "YiWdvN-w_DA4",
        "colab": {
          "base_uri": "https://localhost:8080/"
        },
        "outputId": "058bfa1e-47c8-4ee9-fe26-f46013d00f3b"
      },
      "source": [
        "X_test.shape"
      ],
      "execution_count": null,
      "outputs": [
        {
          "output_type": "execute_result",
          "data": {
            "text/plain": [
              "(51, 224, 224, 3)"
            ]
          },
          "metadata": {
            "tags": []
          },
          "execution_count": 22
        }
      ]
    },
    {
      "cell_type": "code",
      "metadata": {
        "id": "tcmW9UM8BTMe",
        "colab": {
          "base_uri": "https://localhost:8080/"
        },
        "outputId": "a63237c5-9fc0-42ea-d2ae-654638f6a6d0"
      },
      "source": [
        "X_train.shape"
      ],
      "execution_count": null,
      "outputs": [
        {
          "output_type": "execute_result",
          "data": {
            "text/plain": [
              "(202, 224, 224, 3)"
            ]
          },
          "metadata": {
            "tags": []
          },
          "execution_count": 23
        }
      ]
    },
    {
      "cell_type": "code",
      "metadata": {
        "id": "KKK99gDZHTve",
        "colab": {
          "base_uri": "https://localhost:8080/"
        },
        "outputId": "7520aaf8-4e26-49c7-80ce-3ee649f6574b"
      },
      "source": [
        "X_train.shape\n",
        "y_train.shape"
      ],
      "execution_count": null,
      "outputs": [
        {
          "output_type": "execute_result",
          "data": {
            "text/plain": [
              "(202,)"
            ]
          },
          "metadata": {
            "tags": []
          },
          "execution_count": 24
        }
      ]
    },
    {
      "cell_type": "code",
      "metadata": {
        "id": "wZIpejyUCMl8"
      },
      "source": [
        "X_train = X_train.reshape(X_train.shape[0], 150528)\n",
        "y_train = y_train.reshape(y_train.shape[0], )"
      ],
      "execution_count": null,
      "outputs": []
    },
    {
      "cell_type": "code",
      "metadata": {
        "colab": {
          "base_uri": "https://localhost:8080/"
        },
        "id": "YZwn0_q6CD0W",
        "outputId": "db74305f-7d81-43db-f248-e107ff0f5188"
      },
      "source": [
        "# Create a classifier: a support vector classifier\n",
        "param_grid = [\n",
        "  {'C': [1, 10,20,30,40], 'kernel': ['linear']},\n",
        " ]\n",
        "svc = svm.SVC()\n",
        "classifier = GridSearchCV(svc, param_grid, verbose = 3)\n",
        "classifier.fit(X_train, y_train)\n",
        "#fit to the training data"
      ],
      "execution_count": null,
      "outputs": [
        {
          "output_type": "stream",
          "text": [
            "Fitting 5 folds for each of 5 candidates, totalling 25 fits\n",
            "[CV] C=1, kernel=linear ..............................................\n"
          ],
          "name": "stdout"
        },
        {
          "output_type": "stream",
          "text": [
            "[Parallel(n_jobs=1)]: Using backend SequentialBackend with 1 concurrent workers.\n"
          ],
          "name": "stderr"
        },
        {
          "output_type": "stream",
          "text": [
            "[CV] .................. C=1, kernel=linear, score=0.829, total=   7.3s\n",
            "[CV] C=1, kernel=linear ..............................................\n"
          ],
          "name": "stdout"
        },
        {
          "output_type": "stream",
          "text": [
            "[Parallel(n_jobs=1)]: Done   1 out of   1 | elapsed:    7.3s remaining:    0.0s\n"
          ],
          "name": "stderr"
        },
        {
          "output_type": "stream",
          "text": [
            "[CV] .................. C=1, kernel=linear, score=0.732, total=   7.1s\n",
            "[CV] C=1, kernel=linear ..............................................\n"
          ],
          "name": "stdout"
        },
        {
          "output_type": "stream",
          "text": [
            "[Parallel(n_jobs=1)]: Done   2 out of   2 | elapsed:   14.4s remaining:    0.0s\n"
          ],
          "name": "stderr"
        },
        {
          "output_type": "stream",
          "text": [
            "[CV] .................. C=1, kernel=linear, score=0.775, total=   7.3s\n",
            "[CV] C=1, kernel=linear ..............................................\n",
            "[CV] .................. C=1, kernel=linear, score=0.750, total=   7.3s\n",
            "[CV] C=1, kernel=linear ..............................................\n",
            "[CV] .................. C=1, kernel=linear, score=0.750, total=   7.0s\n",
            "[CV] C=10, kernel=linear .............................................\n",
            "[CV] ................. C=10, kernel=linear, score=0.829, total=   7.2s\n",
            "[CV] C=10, kernel=linear .............................................\n",
            "[CV] ................. C=10, kernel=linear, score=0.732, total=   7.1s\n",
            "[CV] C=10, kernel=linear .............................................\n",
            "[CV] ................. C=10, kernel=linear, score=0.775, total=   7.2s\n",
            "[CV] C=10, kernel=linear .............................................\n",
            "[CV] ................. C=10, kernel=linear, score=0.750, total=   7.3s\n",
            "[CV] C=10, kernel=linear .............................................\n",
            "[CV] ................. C=10, kernel=linear, score=0.750, total=   7.0s\n",
            "[CV] C=20, kernel=linear .............................................\n",
            "[CV] ................. C=20, kernel=linear, score=0.829, total=   7.2s\n",
            "[CV] C=20, kernel=linear .............................................\n",
            "[CV] ................. C=20, kernel=linear, score=0.732, total=   7.1s\n",
            "[CV] C=20, kernel=linear .............................................\n",
            "[CV] ................. C=20, kernel=linear, score=0.775, total=   7.2s\n",
            "[CV] C=20, kernel=linear .............................................\n",
            "[CV] ................. C=20, kernel=linear, score=0.750, total=   7.3s\n",
            "[CV] C=20, kernel=linear .............................................\n",
            "[CV] ................. C=20, kernel=linear, score=0.750, total=   7.0s\n",
            "[CV] C=30, kernel=linear .............................................\n",
            "[CV] ................. C=30, kernel=linear, score=0.829, total=   7.2s\n",
            "[CV] C=30, kernel=linear .............................................\n",
            "[CV] ................. C=30, kernel=linear, score=0.732, total=   7.1s\n",
            "[CV] C=30, kernel=linear .............................................\n",
            "[CV] ................. C=30, kernel=linear, score=0.775, total=   7.2s\n",
            "[CV] C=30, kernel=linear .............................................\n",
            "[CV] ................. C=30, kernel=linear, score=0.750, total=   7.3s\n",
            "[CV] C=30, kernel=linear .............................................\n",
            "[CV] ................. C=30, kernel=linear, score=0.750, total=   7.0s\n",
            "[CV] C=40, kernel=linear .............................................\n",
            "[CV] ................. C=40, kernel=linear, score=0.829, total=   7.2s\n",
            "[CV] C=40, kernel=linear .............................................\n",
            "[CV] ................. C=40, kernel=linear, score=0.732, total=   7.1s\n",
            "[CV] C=40, kernel=linear .............................................\n",
            "[CV] ................. C=40, kernel=linear, score=0.775, total=   7.2s\n",
            "[CV] C=40, kernel=linear .............................................\n",
            "[CV] ................. C=40, kernel=linear, score=0.750, total=   7.3s\n",
            "[CV] C=40, kernel=linear .............................................\n",
            "[CV] ................. C=40, kernel=linear, score=0.750, total=   7.0s\n"
          ],
          "name": "stdout"
        },
        {
          "output_type": "stream",
          "text": [
            "[Parallel(n_jobs=1)]: Done  25 out of  25 | elapsed:  3.0min finished\n"
          ],
          "name": "stderr"
        },
        {
          "output_type": "execute_result",
          "data": {
            "text/plain": [
              "GridSearchCV(cv=None, error_score=nan,\n",
              "             estimator=SVC(C=1.0, break_ties=False, cache_size=200,\n",
              "                           class_weight=None, coef0=0.0,\n",
              "                           decision_function_shape='ovr', degree=3,\n",
              "                           gamma='scale', kernel='rbf', max_iter=-1,\n",
              "                           probability=False, random_state=None, shrinking=True,\n",
              "                           tol=0.001, verbose=False),\n",
              "             iid='deprecated', n_jobs=None,\n",
              "             param_grid=[{'C': [1, 10, 20, 30, 40], 'kernel': ['linear']}],\n",
              "             pre_dispatch='2*n_jobs', refit=True, return_train_score=False,\n",
              "             scoring=None, verbose=3)"
            ]
          },
          "metadata": {
            "tags": []
          },
          "execution_count": 26
        }
      ]
    },
    {
      "cell_type": "code",
      "metadata": {
        "id": "pWfneFsHHycy"
      },
      "source": [
        "X_test = X_test.reshape(X_test.shape[0], 150528)\n",
        "y_test = y_test.reshape(y_test.shape[0], )"
      ],
      "execution_count": null,
      "outputs": []
    },
    {
      "cell_type": "code",
      "metadata": {
        "id": "ZlB5dtY986xJ"
      },
      "source": [
        "y_pred = classifier.predict(X_test)"
      ],
      "execution_count": null,
      "outputs": []
    },
    {
      "cell_type": "code",
      "metadata": {
        "id": "F0nxul5WFPxt",
        "colab": {
          "base_uri": "https://localhost:8080/"
        },
        "outputId": "e4a523e7-217b-4ba9-c4c4-931346635227"
      },
      "source": [
        "print(\"Classification report for classifier %s:\\n%s\\n\"\n",
        "      % (classifier, metrics.classification_report(y_test, y_pred)))"
      ],
      "execution_count": null,
      "outputs": [
        {
          "output_type": "stream",
          "text": [
            "Classification report for classifier GridSearchCV(cv=None, error_score=nan,\n",
            "             estimator=SVC(C=1.0, break_ties=False, cache_size=200,\n",
            "                           class_weight=None, coef0=0.0,\n",
            "                           decision_function_shape='ovr', degree=3,\n",
            "                           gamma='scale', kernel='rbf', max_iter=-1,\n",
            "                           probability=False, random_state=None, shrinking=True,\n",
            "                           tol=0.001, verbose=False),\n",
            "             iid='deprecated', n_jobs=None,\n",
            "             param_grid=[{'C': [1, 10, 20, 30, 40], 'kernel': ['linear']}],\n",
            "             pre_dispatch='2*n_jobs', refit=True, return_train_score=False,\n",
            "             scoring=None, verbose=3):\n",
            "              precision    recall  f1-score   support\n",
            "\n",
            "           0       0.78      0.75      0.77        24\n",
            "           1       0.79      0.81      0.80        27\n",
            "\n",
            "    accuracy                           0.78        51\n",
            "   macro avg       0.78      0.78      0.78        51\n",
            "weighted avg       0.78      0.78      0.78        51\n",
            "\n",
            "\n"
          ],
          "name": "stdout"
        }
      ]
    },
    {
      "cell_type": "code",
      "metadata": {
        "id": "BrBxzYng7HRK"
      },
      "source": [
        "knn = KNeighborsClassifier(n_neighbors = 1)\n",
        "knn.fit(X_train, y_train)\n",
        "knn.score(X_test, y_test)\n",
        "\n",
        "i = 1\n",
        "neighbours = []\n",
        "while i<176:    #n samples-1\n",
        "  knn = KNeighborsClassifier(n_neighbors = i)\n",
        "  knn.fit(X_train, y_train)\n",
        "  score = knn.score(X_test, y_test)\n",
        "  neighbours.append(score) \n",
        "  i = i+1"
      ],
      "execution_count": null,
      "outputs": []
    },
    {
      "cell_type": "code",
      "metadata": {
        "id": "q9sQRWVU9XEq"
      },
      "source": [
        "max_value = max(neighbours) #max score value when neighbours = 97\n",
        "max_index = neighbours.index(max_value)"
      ],
      "execution_count": null,
      "outputs": []
    },
    {
      "cell_type": "code",
      "metadata": {
        "id": "iWEPQxly_Hyw",
        "colab": {
          "base_uri": "https://localhost:8080/"
        },
        "outputId": "47ba7707-8291-44e5-cc01-bc4d962ebae5"
      },
      "source": [
        "knn_simple = KNeighborsClassifier(n_neighbors = max_index + 1) # as we take \"i\" as 1 in first iteration\n",
        "knn_simple.fit(X_train, y_train)\n",
        "knn_simple.score(X_test, y_test)\n"
      ],
      "execution_count": null,
      "outputs": [
        {
          "output_type": "execute_result",
          "data": {
            "text/plain": [
              "0.803921568627451"
            ]
          },
          "metadata": {
            "tags": []
          },
          "execution_count": 32
        }
      ]
    },
    {
      "cell_type": "code",
      "metadata": {
        "colab": {
          "base_uri": "https://localhost:8080/"
        },
        "id": "rY_VcSWDn59K",
        "outputId": "89739693-cc75-48fc-d7e0-36b3589b6efb"
      },
      "source": [
        " hog = cv2.HOGDescriptor()\n",
        " im = cv2.imread('/content/drive/MyDrive/brain_tumor/no/1 no.jpeg')\n",
        " print(im.shape)\n",
        " h = hog.compute(im)"
      ],
      "execution_count": null,
      "outputs": [
        {
          "output_type": "stream",
          "text": [
            "(630, 630, 3)\n"
          ],
          "name": "stdout"
        }
      ]
    },
    {
      "cell_type": "code",
      "metadata": {
        "colab": {
          "base_uri": "https://localhost:8080/"
        },
        "id": "FpX9B83ooNw3",
        "outputId": "57632dbc-e00d-4b01-b006-8a00da54459b"
      },
      "source": [
        "h.shape"
      ],
      "execution_count": null,
      "outputs": [
        {
          "output_type": "execute_result",
          "data": {
            "text/plain": [
              "(16907940, 1)"
            ]
          },
          "metadata": {
            "tags": []
          },
          "execution_count": 34
        }
      ]
    },
    {
      "cell_type": "code",
      "metadata": {
        "id": "BDn6VAl6oOf5"
      },
      "source": [
        "from skimage.feature import hog\n",
        "import matplotlib.pyplot as plt"
      ],
      "execution_count": null,
      "outputs": []
    },
    {
      "cell_type": "code",
      "metadata": {
        "colab": {
          "base_uri": "https://localhost:8080/",
          "height": 265
        },
        "id": "gvuZOqXapUK7",
        "outputId": "9e10db2c-aa94-4265-d189-e737b74fcee7"
      },
      "source": [
        "fd, hog_image = hog(im, orientations=9, pixels_per_cell=(8, 8),\n",
        "                \tcells_per_block=(2, 2), visualize=True, multichannel=True)\n",
        "plt.axis(\"off\")\n",
        "plt.imshow(hog_image, cmap=\"gray\")"
      ],
      "execution_count": null,
      "outputs": [
        {
          "output_type": "execute_result",
          "data": {
            "text/plain": [
              "<matplotlib.image.AxesImage at 0x7f0ca02d30d0>"
            ]
          },
          "metadata": {
            "tags": []
          },
          "execution_count": 36
        },
        {
          "output_type": "display_data",
          "data": {
            "image/png": "[encoded data removed]",
            "text/plain": [
              "<Figure size 432x288 with 1 Axes>"
            ]
          },
          "metadata": {
            "tags": [],
            "needs_background": "light"
          }
        }
      ]
    },
    {
      "cell_type": "code",
      "metadata": {
        "colab": {
          "base_uri": "https://localhost:8080/"
        },
        "id": "sBgZi2xqpcdP",
        "outputId": "ea5be99f-3b3f-4179-cda6-0e4203beeb09"
      },
      "source": [
        "fd.shape"
      ],
      "execution_count": null,
      "outputs": [
        {
          "output_type": "execute_result",
          "data": {
            "text/plain": [
              "(213444,)"
            ]
          },
          "metadata": {
            "tags": []
          },
          "execution_count": 37
        }
      ]
    },
    {
      "cell_type": "code",
      "metadata": {
        "colab": {
          "base_uri": "https://localhost:8080/"
        },
        "id": "uDTU-gFlplfm",
        "outputId": "3ba52c1d-b74b-48bd-acb3-fee2f11b15b1"
      },
      "source": [
        "hog_image.shape"
      ],
      "execution_count": null,
      "outputs": [
        {
          "output_type": "execute_result",
          "data": {
            "text/plain": [
              "(630, 630)"
            ]
          },
          "metadata": {
            "tags": []
          },
          "execution_count": 38
        }
      ]
    },
    {
      "cell_type": "code",
      "metadata": {
        "id": "cX4l_T2Lp04S"
      },
      "source": [
        "img_dir = \"/content/drive/MyDrive/brain_tumor/no\"\n",
        "data_path = os.path.join(img_dir,'*') \n",
        "no_images = glob.glob(data_path) \n",
        "data_no_feature = []\n",
        "data_no_hog_image = [] \n",
        "for i in no_images: \n",
        "    img = cv2.imread(i)\n",
        "    img = cv2.resize(img,dsize) \n",
        "    img = img / 255.\n",
        "    fd, hog_image = hog(img, orientations=9, pixels_per_cell=(8, 8),\n",
        "                \tcells_per_block=(2, 2), visualize=True, multichannel=True)\n",
        "    data_no_feature.append(fd)\n",
        "    data_no_hog_image.append(hog_image)\n",
        "    "
      ],
      "execution_count": null,
      "outputs": []
    },
    {
      "cell_type": "code",
      "metadata": {
        "id": "k4VllScVrPu0"
      },
      "source": [
        "img_dir = \"/content/drive/MyDrive/brain_tumor/yes\"\n",
        "data_path = os.path.join(img_dir,'*') \n",
        "no_images = glob.glob(data_path) \n",
        "data_yes_feature = []\n",
        "data_yes_hog_image = [] \n",
        "for i in no_images: \n",
        "    img = cv2.imread(i)\n",
        "    img = cv2.resize(img,dsize) \n",
        "    img = img / 255.\n",
        "    fd, hog_image = hog(img, orientations=9, pixels_per_cell=(8, 8),\n",
        "                \tcells_per_block=(2, 2), visualize=True, multichannel=True)\n",
        "    data_yes_feature.append(fd)\n",
        "    data_yes_hog_image.append(hog_image)\n",
        "    "
      ],
      "execution_count": null,
      "outputs": []
    },
    {
      "cell_type": "code",
      "metadata": {
        "id": "yQ_nmbpSrml7"
      },
      "source": [
        "X_hog = []\n",
        "y_hog = []\n",
        "for i in data_yes_feature:\n",
        "  X_hog.append(i)\n",
        "  y_hog.append(1)"
      ],
      "execution_count": null,
      "outputs": []
    },
    {
      "cell_type": "code",
      "metadata": {
        "id": "0HtV1YhHtyc8"
      },
      "source": [
        "for i in data_no_feature:\n",
        "  X_hog.append(i)\n",
        "  y_hog.append(0)"
      ],
      "execution_count": null,
      "outputs": []
    },
    {
      "cell_type": "code",
      "metadata": {
        "id": "G8uoefKXt2Fn"
      },
      "source": [
        "X_hog = np.array(X_hog)\n",
        "y_hog = np.array(y_hog)"
      ],
      "execution_count": null,
      "outputs": []
    },
    {
      "cell_type": "code",
      "metadata": {
        "id": "Bxc57e1VuIh8"
      },
      "source": [
        "X_hog,y_hog = shuffle(X_hog,y_hog)"
      ],
      "execution_count": null,
      "outputs": []
    },
    {
      "cell_type": "code",
      "metadata": {
        "colab": {
          "base_uri": "https://localhost:8080/"
        },
        "id": "OgfWJvKYvSpZ",
        "outputId": "a2c640a0-49ae-4d36-d5ac-f0cedc7474a5"
      },
      "source": [
        "X_hog_train,X_hog_test ,y_hog_train, y_hog_test =  train_test_split(X_hog, y_hog, test_size=0.2)\n",
        "y_hog_train.shape"
      ],
      "execution_count": null,
      "outputs": [
        {
          "output_type": "execute_result",
          "data": {
            "text/plain": [
              "(202,)"
            ]
          },
          "metadata": {
            "tags": []
          },
          "execution_count": 45
        }
      ]
    },
    {
      "cell_type": "code",
      "metadata": {
        "colab": {
          "base_uri": "https://localhost:8080/"
        },
        "id": "9pm-QjfDviDU",
        "outputId": "c2bcf402-48ed-40d2-ca0f-d6a9c0c04828"
      },
      "source": [
        "X_hog_train.shape"
      ],
      "execution_count": null,
      "outputs": [
        {
          "output_type": "execute_result",
          "data": {
            "text/plain": [
              "(202, 26244)"
            ]
          },
          "metadata": {
            "tags": []
          },
          "execution_count": 46
        }
      ]
    },
    {
      "cell_type": "code",
      "metadata": {
        "id": "StAQ-HNNvvjs",
        "colab": {
          "base_uri": "https://localhost:8080/"
        },
        "outputId": "c118d287-f103-4ab0-d996-838c248cf5c4"
      },
      "source": [
        "# Create a classifier: a support vector classifier\n",
        "param_grid = [\n",
        "  {'C': [1, 10,20,30,40,50,60,70,80], 'kernel': ['linear']},\n",
        " ]\n",
        "svc = svm.SVC()\n",
        "classifier = GridSearchCV(svc, param_grid, verbose = 100)\n",
        "classifier.fit(X_hog_train, y_hog_train)\n",
        "#fit to the training data"
      ],
      "execution_count": null,
      "outputs": [
        {
          "output_type": "stream",
          "text": [
            "Fitting 5 folds for each of 9 candidates, totalling 45 fits\n",
            "[Parallel(n_jobs=1)]: Using backend SequentialBackend with 1 concurrent workers.\n",
            "[CV] C=1, kernel=linear ..............................................\n",
            "[CV] .................. C=1, kernel=linear, score=0.805, total=   1.3s\n",
            "[Parallel(n_jobs=1)]: Done   1 out of   1 | elapsed:    1.3s remaining:    0.0s\n",
            "[CV] C=1, kernel=linear ..............................................\n",
            "[CV] .................. C=1, kernel=linear, score=0.951, total=   1.3s\n",
            "[Parallel(n_jobs=1)]: Done   2 out of   2 | elapsed:    2.6s remaining:    0.0s\n",
            "[CV] C=1, kernel=linear ..............................................\n",
            "[CV] .................. C=1, kernel=linear, score=0.800, total=   1.3s\n",
            "[Parallel(n_jobs=1)]: Done   3 out of   3 | elapsed:    3.9s remaining:    0.0s\n",
            "[CV] C=1, kernel=linear ..............................................\n",
            "[CV] .................. C=1, kernel=linear, score=0.725, total=   1.3s\n",
            "[Parallel(n_jobs=1)]: Done   4 out of   4 | elapsed:    5.2s remaining:    0.0s\n",
            "[CV] C=1, kernel=linear ..............................................\n",
            "[CV] .................. C=1, kernel=linear, score=0.925, total=   1.3s\n",
            "[Parallel(n_jobs=1)]: Done   5 out of   5 | elapsed:    6.5s remaining:    0.0s\n",
            "[CV] C=10, kernel=linear .............................................\n",
            "[CV] ................. C=10, kernel=linear, score=0.805, total=   1.3s\n",
            "[Parallel(n_jobs=1)]: Done   6 out of   6 | elapsed:    7.8s remaining:    0.0s\n",
            "[CV] C=10, kernel=linear .............................................\n",
            "[CV] ................. C=10, kernel=linear, score=0.951, total=   1.3s\n",
            "[Parallel(n_jobs=1)]: Done   7 out of   7 | elapsed:    9.1s remaining:    0.0s\n",
            "[CV] C=10, kernel=linear .............................................\n",
            "[CV] ................. C=10, kernel=linear, score=0.800, total=   1.3s\n",
            "[Parallel(n_jobs=1)]: Done   8 out of   8 | elapsed:   10.4s remaining:    0.0s\n",
            "[CV] C=10, kernel=linear .............................................\n",
            "[CV] ................. C=10, kernel=linear, score=0.725, total=   1.3s\n",
            "[Parallel(n_jobs=1)]: Done   9 out of   9 | elapsed:   11.7s remaining:    0.0s\n",
            "[CV] C=10, kernel=linear .............................................\n",
            "[CV] ................. C=10, kernel=linear, score=0.925, total=   1.3s\n",
            "[Parallel(n_jobs=1)]: Done  10 out of  10 | elapsed:   13.0s remaining:    0.0s\n",
            "[CV] C=20, kernel=linear .............................................\n",
            "[CV] ................. C=20, kernel=linear, score=0.805, total=   1.3s\n",
            "[Parallel(n_jobs=1)]: Done  11 out of  11 | elapsed:   14.3s remaining:    0.0s\n",
            "[CV] C=20, kernel=linear .............................................\n",
            "[CV] ................. C=20, kernel=linear, score=0.951, total=   1.3s\n",
            "[Parallel(n_jobs=1)]: Done  12 out of  12 | elapsed:   15.6s remaining:    0.0s\n",
            "[CV] C=20, kernel=linear .............................................\n",
            "[CV] ................. C=20, kernel=linear, score=0.800, total=   1.3s\n",
            "[Parallel(n_jobs=1)]: Done  13 out of  13 | elapsed:   16.9s remaining:    0.0s\n",
            "[CV] C=20, kernel=linear .............................................\n",
            "[CV] ................. C=20, kernel=linear, score=0.725, total=   1.3s\n",
            "[Parallel(n_jobs=1)]: Done  14 out of  14 | elapsed:   18.1s remaining:    0.0s\n",
            "[CV] C=20, kernel=linear .............................................\n",
            "[CV] ................. C=20, kernel=linear, score=0.925, total=   1.3s\n",
            "[Parallel(n_jobs=1)]: Done  15 out of  15 | elapsed:   19.4s remaining:    0.0s\n",
            "[CV] C=30, kernel=linear .............................................\n",
            "[CV] ................. C=30, kernel=linear, score=0.805, total=   1.3s\n",
            "[Parallel(n_jobs=1)]: Done  16 out of  16 | elapsed:   20.7s remaining:    0.0s\n",
            "[CV] C=30, kernel=linear .............................................\n",
            "[CV] ................. C=30, kernel=linear, score=0.951, total=   1.3s\n",
            "[Parallel(n_jobs=1)]: Done  17 out of  17 | elapsed:   22.0s remaining:    0.0s\n",
            "[CV] C=30, kernel=linear .............................................\n",
            "[CV] ................. C=30, kernel=linear, score=0.800, total=   1.3s\n",
            "[Parallel(n_jobs=1)]: Done  18 out of  18 | elapsed:   23.3s remaining:    0.0s\n",
            "[CV] C=30, kernel=linear .............................................\n",
            "[CV] ................. C=30, kernel=linear, score=0.725, total=   1.3s\n",
            "[Parallel(n_jobs=1)]: Done  19 out of  19 | elapsed:   24.5s remaining:    0.0s\n",
            "[CV] C=30, kernel=linear .............................................\n",
            "[CV] ................. C=30, kernel=linear, score=0.925, total=   1.3s\n",
            "[Parallel(n_jobs=1)]: Done  20 out of  20 | elapsed:   25.8s remaining:    0.0s\n",
            "[CV] C=40, kernel=linear .............................................\n",
            "[CV] ................. C=40, kernel=linear, score=0.805, total=   1.3s\n",
            "[Parallel(n_jobs=1)]: Done  21 out of  21 | elapsed:   27.1s remaining:    0.0s\n",
            "[CV] C=40, kernel=linear .............................................\n",
            "[CV] ................. C=40, kernel=linear, score=0.951, total=   1.3s\n",
            "[Parallel(n_jobs=1)]: Done  22 out of  22 | elapsed:   28.4s remaining:    0.0s\n",
            "[CV] C=40, kernel=linear .............................................\n",
            "[CV] ................. C=40, kernel=linear, score=0.800, total=   1.3s\n",
            "[Parallel(n_jobs=1)]: Done  23 out of  23 | elapsed:   29.7s remaining:    0.0s\n",
            "[CV] C=40, kernel=linear .............................................\n",
            "[CV] ................. C=40, kernel=linear, score=0.725, total=   1.3s\n",
            "[Parallel(n_jobs=1)]: Done  24 out of  24 | elapsed:   31.0s remaining:    0.0s\n",
            "[CV] C=40, kernel=linear .............................................\n",
            "[CV] ................. C=40, kernel=linear, score=0.925, total=   1.3s\n",
            "[Parallel(n_jobs=1)]: Done  25 out of  25 | elapsed:   32.3s remaining:    0.0s\n",
            "[CV] C=50, kernel=linear .............................................\n",
            "[CV] ................. C=50, kernel=linear, score=0.805, total=   1.3s\n",
            "[Parallel(n_jobs=1)]: Done  26 out of  26 | elapsed:   33.5s remaining:    0.0s\n",
            "[CV] C=50, kernel=linear .............................................\n",
            "[CV] ................. C=50, kernel=linear, score=0.951, total=   1.3s\n",
            "[Parallel(n_jobs=1)]: Done  27 out of  27 | elapsed:   34.8s remaining:    0.0s\n",
            "[CV] C=50, kernel=linear .............................................\n",
            "[CV] ................. C=50, kernel=linear, score=0.800, total=   1.3s\n",
            "[Parallel(n_jobs=1)]: Done  28 out of  28 | elapsed:   36.1s remaining:    0.0s\n",
            "[CV] C=50, kernel=linear .............................................\n",
            "[CV] ................. C=50, kernel=linear, score=0.725, total=   1.3s\n",
            "[Parallel(n_jobs=1)]: Done  29 out of  29 | elapsed:   37.4s remaining:    0.0s\n",
            "[CV] C=50, kernel=linear .............................................\n",
            "[CV] ................. C=50, kernel=linear, score=0.925, total=   1.3s\n",
            "[Parallel(n_jobs=1)]: Done  30 out of  30 | elapsed:   38.7s remaining:    0.0s\n",
            "[CV] C=60, kernel=linear .............................................\n",
            "[CV] ................. C=60, kernel=linear, score=0.805, total=   1.3s\n",
            "[Parallel(n_jobs=1)]: Done  31 out of  31 | elapsed:   39.9s remaining:    0.0s\n",
            "[CV] C=60, kernel=linear .............................................\n",
            "[CV] ................. C=60, kernel=linear, score=0.951, total=   1.3s\n",
            "[Parallel(n_jobs=1)]: Done  32 out of  32 | elapsed:   41.2s remaining:    0.0s\n",
            "[CV] C=60, kernel=linear .............................................\n",
            "[CV] ................. C=60, kernel=linear, score=0.800, total=   1.3s\n",
            "[Parallel(n_jobs=1)]: Done  33 out of  33 | elapsed:   42.5s remaining:    0.0s\n",
            "[CV] C=60, kernel=linear .............................................\n",
            "[CV] ................. C=60, kernel=linear, score=0.725, total=   1.3s\n",
            "[Parallel(n_jobs=1)]: Done  34 out of  34 | elapsed:   43.8s remaining:    0.0s\n",
            "[CV] C=60, kernel=linear .............................................\n",
            "[CV] ................. C=60, kernel=linear, score=0.925, total=   1.3s\n",
            "[Parallel(n_jobs=1)]: Done  35 out of  35 | elapsed:   45.1s remaining:    0.0s\n",
            "[CV] C=70, kernel=linear .............................................\n",
            "[CV] ................. C=70, kernel=linear, score=0.805, total=   1.3s\n",
            "[Parallel(n_jobs=1)]: Done  36 out of  36 | elapsed:   46.3s remaining:    0.0s\n",
            "[CV] C=70, kernel=linear .............................................\n",
            "[CV] ................. C=70, kernel=linear, score=0.951, total=   1.3s\n",
            "[Parallel(n_jobs=1)]: Done  37 out of  37 | elapsed:   47.6s remaining:    0.0s\n",
            "[CV] C=70, kernel=linear .............................................\n",
            "[CV] ................. C=70, kernel=linear, score=0.800, total=   1.3s\n",
            "[Parallel(n_jobs=1)]: Done  38 out of  38 | elapsed:   48.9s remaining:    0.0s\n",
            "[CV] C=70, kernel=linear .............................................\n",
            "[CV] ................. C=70, kernel=linear, score=0.725, total=   1.3s\n",
            "[Parallel(n_jobs=1)]: Done  39 out of  39 | elapsed:   50.2s remaining:    0.0s\n",
            "[CV] C=70, kernel=linear .............................................\n",
            "[CV] ................. C=70, kernel=linear, score=0.925, total=   1.3s\n",
            "[Parallel(n_jobs=1)]: Done  40 out of  40 | elapsed:   51.5s remaining:    0.0s\n",
            "[CV] C=80, kernel=linear .............................................\n",
            "[CV] ................. C=80, kernel=linear, score=0.805, total=   1.3s\n",
            "[Parallel(n_jobs=1)]: Done  41 out of  41 | elapsed:   52.8s remaining:    0.0s\n",
            "[CV] C=80, kernel=linear .............................................\n",
            "[CV] ................. C=80, kernel=linear, score=0.951, total=   1.3s\n",
            "[Parallel(n_jobs=1)]: Done  42 out of  42 | elapsed:   54.1s remaining:    0.0s\n",
            "[CV] C=80, kernel=linear .............................................\n",
            "[CV] ................. C=80, kernel=linear, score=0.800, total=   1.3s\n",
            "[Parallel(n_jobs=1)]: Done  43 out of  43 | elapsed:   55.4s remaining:    0.0s\n",
            "[CV] C=80, kernel=linear .............................................\n",
            "[CV] ................. C=80, kernel=linear, score=0.725, total=   1.3s\n",
            "[Parallel(n_jobs=1)]: Done  44 out of  44 | elapsed:   56.6s remaining:    0.0s\n",
            "[CV] C=80, kernel=linear .............................................\n",
            "[CV] ................. C=80, kernel=linear, score=0.925, total=   1.3s\n",
            "[Parallel(n_jobs=1)]: Done  45 out of  45 | elapsed:   57.9s remaining:    0.0s\n",
            "[Parallel(n_jobs=1)]: Done  45 out of  45 | elapsed:   57.9s finished\n"
          ],
          "name": "stdout"
        },
        {
          "output_type": "execute_result",
          "data": {
            "text/plain": [
              "GridSearchCV(cv=None, error_score=nan,\n",
              "             estimator=SVC(C=1.0, break_ties=False, cache_size=200,\n",
              "                           class_weight=None, coef0=0.0,\n",
              "                           decision_function_shape='ovr', degree=3,\n",
              "                           gamma='scale', kernel='rbf', max_iter=-1,\n",
              "                           probability=False, random_state=None, shrinking=True,\n",
              "                           tol=0.001, verbose=False),\n",
              "             iid='deprecated', n_jobs=None,\n",
              "             param_grid=[{'C': [1, 10, 20, 30, 40, 50, 60, 70, 80],\n",
              "                          'kernel': ['linear']}],\n",
              "             pre_dispatch='2*n_jobs', refit=True, return_train_score=False,\n",
              "             scoring=None, verbose=100)"
            ]
          },
          "metadata": {
            "tags": []
          },
          "execution_count": 47
        }
      ]
    },
    {
      "cell_type": "code",
      "metadata": {
        "id": "VP_-VyLfwGb9"
      },
      "source": [
        "y_pred = classifier.predict(X_hog_test)"
      ],
      "execution_count": null,
      "outputs": []
    },
    {
      "cell_type": "code",
      "metadata": {
        "id": "5BLZ36iAwQ4q",
        "colab": {
          "base_uri": "https://localhost:8080/"
        },
        "outputId": "04e77dcd-af42-4228-94b7-f5adb41c0ea6"
      },
      "source": [
        "print(\"Classification report for classifier %s:\\n%s\\n\"\n",
        "      % (classifier, metrics.classification_report(y_hog_test, y_pred)))"
      ],
      "execution_count": null,
      "outputs": [
        {
          "output_type": "stream",
          "text": [
            "Classification report for classifier GridSearchCV(cv=None, error_score=nan,\n",
            "             estimator=SVC(C=1.0, break_ties=False, cache_size=200,\n",
            "                           class_weight=None, coef0=0.0,\n",
            "                           decision_function_shape='ovr', degree=3,\n",
            "                           gamma='scale', kernel='rbf', max_iter=-1,\n",
            "                           probability=False, random_state=None, shrinking=True,\n",
            "                           tol=0.001, verbose=False),\n",
            "             iid='deprecated', n_jobs=None,\n",
            "             param_grid=[{'C': [1, 10, 20, 30, 40, 50, 60, 70, 80],\n",
            "                          'kernel': ['linear']}],\n",
            "             pre_dispatch='2*n_jobs', refit=True, return_train_score=False,\n",
            "             scoring=None, verbose=100):\n",
            "              precision    recall  f1-score   support\n",
            "\n",
            "           0       0.82      0.82      0.82        22\n",
            "           1       0.86      0.86      0.86        29\n",
            "\n",
            "    accuracy                           0.84        51\n",
            "   macro avg       0.84      0.84      0.84        51\n",
            "weighted avg       0.84      0.84      0.84        51\n",
            "\n",
            "\n"
          ],
          "name": "stdout"
        }
      ]
    },
    {
      "cell_type": "code",
      "metadata": {
        "id": "Qh7EH-rm5n2p",
        "colab": {
          "base_uri": "https://localhost:8080/",
          "height": 319
        },
        "outputId": "cc4277ef-5b38-4027-ad78-69e567ce2b84"
      },
      "source": [
        "from sklearn.model_selection import KFold\n",
        "import matplotlib.pyplot as plt\n",
        "import seaborn as sns\n",
        "import pandas as pd\n",
        "from sklearn import metrics\n",
        "sns.set()\n",
        "import warnings\n",
        "warnings.filterwarnings('ignore')\n",
        "%matplotlib inline\n",
        "\n",
        "y_pred = classifier.predict(X_hog_test)\n",
        "cnf_matrix = metrics.confusion_matrix(y_hog_test, y_pred)\n",
        "p = sns.heatmap(pd.DataFrame(cnf_matrix), annot=True, cmap=\"YlGnBu\" ,fmt='g')\n",
        "plt.title('Confusion matrix', y=1.1)\n",
        "plt.ylabel('Actual label')\n",
        "plt.xlabel('Predicted label')"
      ],
      "execution_count": null,
      "outputs": [
        {
          "output_type": "execute_result",
          "data": {
            "text/plain": [
              "Text(0.5, 12.5, 'Predicted label')"
            ]
          },
          "metadata": {
            "tags": []
          },
          "execution_count": 50
        },
        {
          "output_type": "display_data",
          "data": {
            "image/png": "[encoded data removed]",
            "text/plain": [
              "<Figure size 432x288 with 2 Axes>"
            ]
          },
          "metadata": {
            "tags": [],
            "needs_background": "light"
          }
        }
      ]
    },
    {
      "cell_type": "code",
      "metadata": {
        "id": "fYf9RGJfwX09"
      },
      "source": [
        "knn = KNeighborsClassifier(n_neighbors = 1)\n",
        "knn.fit(X_hog_train, y_hog_train)\n",
        "knn.score(X_hog_test, y_hog_test)\n",
        "\n",
        "i = 1\n",
        "neighbours = []\n",
        "while i<176:    #n samples-1\n",
        "  knn = KNeighborsClassifier(n_neighbors = i)\n",
        "  knn.fit(X_hog_train, y_hog_train)\n",
        "  score = knn.score(X_hog_test, y_hog_test)\n",
        "  neighbours.append(score) \n",
        "  i = i+1"
      ],
      "execution_count": null,
      "outputs": []
    },
    {
      "cell_type": "code",
      "metadata": {
        "id": "vqsjhLeKws2h"
      },
      "source": [
        "max_value = max(neighbours) #max score value when neighbours = 97\n",
        "max_index = neighbours.index(max_value)"
      ],
      "execution_count": null,
      "outputs": []
    },
    {
      "cell_type": "code",
      "metadata": {
        "id": "_4X7kXQCwwws",
        "colab": {
          "base_uri": "https://localhost:8080/"
        },
        "outputId": "8657d403-2276-46ae-eaa0-5e1ba2953b3b"
      },
      "source": [
        "knn = KNeighborsClassifier(n_neighbors = max_index + 1) # as we take \"i\" as 1 in first iteration\n",
        "knn.fit(X_hog_train, y_hog_train)\n",
        "knn.score(X_hog_test, y_hog_test)"
      ],
      "execution_count": null,
      "outputs": [
        {
          "output_type": "execute_result",
          "data": {
            "text/plain": [
              "0.8431372549019608"
            ]
          },
          "metadata": {
            "tags": []
          },
          "execution_count": 53
        }
      ]
    },
    {
      "cell_type": "code",
      "metadata": {
        "id": "xBsqNpal5UiJ",
        "colab": {
          "base_uri": "https://localhost:8080/",
          "height": 319
        },
        "outputId": "c45dec90-b973-4fbe-e79c-668be4a07c2e"
      },
      "source": [
        "from sklearn.model_selection import KFold\n",
        "import matplotlib.pyplot as plt\n",
        "import seaborn as sns\n",
        "import pandas as pd\n",
        "from sklearn import metrics\n",
        "sns.set()\n",
        "import warnings\n",
        "warnings.filterwarnings('ignore')\n",
        "%matplotlib inline\n",
        "\n",
        "y_pred = knn.predict(X_hog_test)\n",
        "cnf_matrix = metrics.confusion_matrix(y_hog_test, y_pred)\n",
        "p = sns.heatmap(pd.DataFrame(cnf_matrix), annot=True, cmap=\"YlGnBu\" ,fmt='g')\n",
        "plt.title('Confusion matrix', y=1.1)\n",
        "plt.ylabel('Actual label')\n",
        "plt.xlabel('Predicted label')"
      ],
      "execution_count": null,
      "outputs": [
        {
          "output_type": "execute_result",
          "data": {
            "text/plain": [
              "Text(0.5, 12.5, 'Predicted label')"
            ]
          },
          "metadata": {
            "tags": []
          },
          "execution_count": 54
        },
        {
          "output_type": "display_data",
          "data": {
            "image/png": "[encoded data removed]",
            "text/plain": [
              "<Figure size 432x288 with 2 Axes>"
            ]
          },
          "metadata": {
            "tags": [],
            "needs_background": "light"
          }
        }
      ]
    },
    {
      "cell_type": "code",
      "metadata": {
        "id": "iFrsQwq8jVOB",
        "colab": {
          "base_uri": "https://localhost:8080/"
        },
        "outputId": "7881fa6b-5546-49af-911c-7fa7525d3dad"
      },
      "source": [
        "# Making the final model using voting classifier\n",
        "final_model = VotingClassifier(\n",
        "    estimators=[('KNN_Simple',knn), ('SVM_HOG', classifier)], voting='hard')\n",
        " \n",
        "# training all the model on the train dataset\n",
        "final_model.fit(X_hog_train, y_hog_train)\n",
        " \n",
        "# predicting the output on the test dataset\n",
        "pred_final = final_model.predict(X_hog_test)\n",
        " \n",
        "# printing log loss between actual and predicted value\n",
        "print(log_loss(y_hog_test, pred_final))"
      ],
      "execution_count": null,
      "outputs": [
        {
          "output_type": "stream",
          "text": [
            "Fitting 5 folds for each of 9 candidates, totalling 45 fits\n",
            "[Parallel(n_jobs=1)]: Using backend SequentialBackend with 1 concurrent workers.\n",
            "[CV] C=1, kernel=linear ..............................................\n",
            "[CV] .................. C=1, kernel=linear, score=0.805, total=   1.3s\n",
            "[Parallel(n_jobs=1)]: Done   1 out of   1 | elapsed:    1.3s remaining:    0.0s\n",
            "[CV] C=1, kernel=linear ..............................................\n",
            "[CV] .................. C=1, kernel=linear, score=0.951, total=   1.3s\n",
            "[Parallel(n_jobs=1)]: Done   2 out of   2 | elapsed:    2.6s remaining:    0.0s\n",
            "[CV] C=1, kernel=linear ..............................................\n",
            "[CV] .................. C=1, kernel=linear, score=0.800, total=   1.3s\n",
            "[Parallel(n_jobs=1)]: Done   3 out of   3 | elapsed:    3.8s remaining:    0.0s\n",
            "[CV] C=1, kernel=linear ..............................................\n",
            "[CV] .................. C=1, kernel=linear, score=0.725, total=   1.3s\n",
            "[Parallel(n_jobs=1)]: Done   4 out of   4 | elapsed:    5.1s remaining:    0.0s\n",
            "[CV] C=1, kernel=linear ..............................................\n",
            "[CV] .................. C=1, kernel=linear, score=0.925, total=   1.3s\n",
            "[Parallel(n_jobs=1)]: Done   5 out of   5 | elapsed:    6.4s remaining:    0.0s\n",
            "[CV] C=10, kernel=linear .............................................\n",
            "[CV] ................. C=10, kernel=linear, score=0.805, total=   1.3s\n",
            "[Parallel(n_jobs=1)]: Done   6 out of   6 | elapsed:    7.7s remaining:    0.0s\n",
            "[CV] C=10, kernel=linear .............................................\n",
            "[CV] ................. C=10, kernel=linear, score=0.951, total=   1.3s\n",
            "[Parallel(n_jobs=1)]: Done   7 out of   7 | elapsed:    9.0s remaining:    0.0s\n",
            "[CV] C=10, kernel=linear .............................................\n",
            "[CV] ................. C=10, kernel=linear, score=0.800, total=   1.3s\n",
            "[Parallel(n_jobs=1)]: Done   8 out of   8 | elapsed:   10.2s remaining:    0.0s\n",
            "[CV] C=10, kernel=linear .............................................\n",
            "[CV] ................. C=10, kernel=linear, score=0.725, total=   1.3s\n",
            "[Parallel(n_jobs=1)]: Done   9 out of   9 | elapsed:   11.5s remaining:    0.0s\n",
            "[CV] C=10, kernel=linear .............................................\n",
            "[CV] ................. C=10, kernel=linear, score=0.925, total=   1.3s\n",
            "[Parallel(n_jobs=1)]: Done  10 out of  10 | elapsed:   12.8s remaining:    0.0s\n",
            "[CV] C=20, kernel=linear .............................................\n",
            "[CV] ................. C=20, kernel=linear, score=0.805, total=   1.3s\n",
            "[Parallel(n_jobs=1)]: Done  11 out of  11 | elapsed:   14.1s remaining:    0.0s\n",
            "[CV] C=20, kernel=linear .............................................\n",
            "[CV] ................. C=20, kernel=linear, score=0.951, total=   1.3s\n",
            "[Parallel(n_jobs=1)]: Done  12 out of  12 | elapsed:   15.4s remaining:    0.0s\n",
            "[CV] C=20, kernel=linear .............................................\n",
            "[CV] ................. C=20, kernel=linear, score=0.800, total=   1.3s\n",
            "[Parallel(n_jobs=1)]: Done  13 out of  13 | elapsed:   16.7s remaining:    0.0s\n",
            "[CV] C=20, kernel=linear .............................................\n",
            "[CV] ................. C=20, kernel=linear, score=0.725, total=   1.3s\n",
            "[Parallel(n_jobs=1)]: Done  14 out of  14 | elapsed:   18.0s remaining:    0.0s\n",
            "[CV] C=20, kernel=linear .............................................\n",
            "[CV] ................. C=20, kernel=linear, score=0.925, total=   1.3s\n",
            "[Parallel(n_jobs=1)]: Done  15 out of  15 | elapsed:   19.3s remaining:    0.0s\n",
            "[CV] C=30, kernel=linear .............................................\n",
            "[CV] ................. C=30, kernel=linear, score=0.805, total=   1.3s\n",
            "[Parallel(n_jobs=1)]: Done  16 out of  16 | elapsed:   20.5s remaining:    0.0s\n",
            "[CV] C=30, kernel=linear .............................................\n",
            "[CV] ................. C=30, kernel=linear, score=0.951, total=   1.3s\n",
            "[Parallel(n_jobs=1)]: Done  17 out of  17 | elapsed:   21.8s remaining:    0.0s\n",
            "[CV] C=30, kernel=linear .............................................\n",
            "[CV] ................. C=30, kernel=linear, score=0.800, total=   1.3s\n",
            "[Parallel(n_jobs=1)]: Done  18 out of  18 | elapsed:   23.1s remaining:    0.0s\n",
            "[CV] C=30, kernel=linear .............................................\n",
            "[CV] ................. C=30, kernel=linear, score=0.725, total=   1.3s\n",
            "[Parallel(n_jobs=1)]: Done  19 out of  19 | elapsed:   24.4s remaining:    0.0s\n",
            "[CV] C=30, kernel=linear .............................................\n",
            "[CV] ................. C=30, kernel=linear, score=0.925, total=   1.3s\n",
            "[Parallel(n_jobs=1)]: Done  20 out of  20 | elapsed:   25.6s remaining:    0.0s\n",
            "[CV] C=40, kernel=linear .............................................\n",
            "[CV] ................. C=40, kernel=linear, score=0.805, total=   1.3s\n",
            "[Parallel(n_jobs=1)]: Done  21 out of  21 | elapsed:   26.9s remaining:    0.0s\n",
            "[CV] C=40, kernel=linear .............................................\n",
            "[CV] ................. C=40, kernel=linear, score=0.951, total=   1.3s\n",
            "[Parallel(n_jobs=1)]: Done  22 out of  22 | elapsed:   28.2s remaining:    0.0s\n",
            "[CV] C=40, kernel=linear .............................................\n",
            "[CV] ................. C=40, kernel=linear, score=0.800, total=   1.3s\n",
            "[Parallel(n_jobs=1)]: Done  23 out of  23 | elapsed:   29.5s remaining:    0.0s\n",
            "[CV] C=40, kernel=linear .............................................\n",
            "[CV] ................. C=40, kernel=linear, score=0.725, total=   1.3s\n",
            "[Parallel(n_jobs=1)]: Done  24 out of  24 | elapsed:   30.7s remaining:    0.0s\n",
            "[CV] C=40, kernel=linear .............................................\n",
            "[CV] ................. C=40, kernel=linear, score=0.925, total=   1.3s\n",
            "[Parallel(n_jobs=1)]: Done  25 out of  25 | elapsed:   32.0s remaining:    0.0s\n",
            "[CV] C=50, kernel=linear .............................................\n",
            "[CV] ................. C=50, kernel=linear, score=0.805, total=   1.3s\n",
            "[Parallel(n_jobs=1)]: Done  26 out of  26 | elapsed:   33.3s remaining:    0.0s\n",
            "[CV] C=50, kernel=linear .............................................\n",
            "[CV] ................. C=50, kernel=linear, score=0.951, total=   1.3s\n",
            "[Parallel(n_jobs=1)]: Done  27 out of  27 | elapsed:   34.6s remaining:    0.0s\n",
            "[CV] C=50, kernel=linear .............................................\n",
            "[CV] ................. C=50, kernel=linear, score=0.800, total=   1.3s\n",
            "[Parallel(n_jobs=1)]: Done  28 out of  28 | elapsed:   35.9s remaining:    0.0s\n",
            "[CV] C=50, kernel=linear .............................................\n",
            "[CV] ................. C=50, kernel=linear, score=0.725, total=   1.3s\n",
            "[Parallel(n_jobs=1)]: Done  29 out of  29 | elapsed:   37.1s remaining:    0.0s\n",
            "[CV] C=50, kernel=linear .............................................\n",
            "[CV] ................. C=50, kernel=linear, score=0.925, total=   1.3s\n",
            "[Parallel(n_jobs=1)]: Done  30 out of  30 | elapsed:   38.4s remaining:    0.0s\n",
            "[CV] C=60, kernel=linear .............................................\n",
            "[CV] ................. C=60, kernel=linear, score=0.805, total=   1.3s\n",
            "[Parallel(n_jobs=1)]: Done  31 out of  31 | elapsed:   39.7s remaining:    0.0s\n",
            "[CV] C=60, kernel=linear .............................................\n",
            "[CV] ................. C=60, kernel=linear, score=0.951, total=   1.3s\n",
            "[Parallel(n_jobs=1)]: Done  32 out of  32 | elapsed:   41.0s remaining:    0.0s\n",
            "[CV] C=60, kernel=linear .............................................\n",
            "[CV] ................. C=60, kernel=linear, score=0.800, total=   1.3s\n",
            "[Parallel(n_jobs=1)]: Done  33 out of  33 | elapsed:   42.2s remaining:    0.0s\n",
            "[CV] C=60, kernel=linear .............................................\n",
            "[CV] ................. C=60, kernel=linear, score=0.725, total=   1.3s\n",
            "[Parallel(n_jobs=1)]: Done  34 out of  34 | elapsed:   43.5s remaining:    0.0s\n",
            "[CV] C=60, kernel=linear .............................................\n",
            "[CV] ................. C=60, kernel=linear, score=0.925, total=   1.3s\n",
            "[Parallel(n_jobs=1)]: Done  35 out of  35 | elapsed:   44.8s remaining:    0.0s\n",
            "[CV] C=70, kernel=linear .............................................\n",
            "[CV] ................. C=70, kernel=linear, score=0.805, total=   1.3s\n",
            "[Parallel(n_jobs=1)]: Done  36 out of  36 | elapsed:   46.0s remaining:    0.0s\n",
            "[CV] C=70, kernel=linear .............................................\n",
            "[CV] ................. C=70, kernel=linear, score=0.951, total=   1.3s\n",
            "[Parallel(n_jobs=1)]: Done  37 out of  37 | elapsed:   47.3s remaining:    0.0s\n",
            "[CV] C=70, kernel=linear .............................................\n",
            "[CV] ................. C=70, kernel=linear, score=0.800, total=   1.3s\n",
            "[Parallel(n_jobs=1)]: Done  38 out of  38 | elapsed:   48.6s remaining:    0.0s\n",
            "[CV] C=70, kernel=linear .............................................\n",
            "[CV] ................. C=70, kernel=linear, score=0.725, total=   1.3s\n",
            "[Parallel(n_jobs=1)]: Done  39 out of  39 | elapsed:   49.9s remaining:    0.0s\n",
            "[CV] C=70, kernel=linear .............................................\n",
            "[CV] ................. C=70, kernel=linear, score=0.925, total=   1.3s\n",
            "[Parallel(n_jobs=1)]: Done  40 out of  40 | elapsed:   51.2s remaining:    0.0s\n",
            "[CV] C=80, kernel=linear .............................................\n",
            "[CV] ................. C=80, kernel=linear, score=0.805, total=   1.3s\n",
            "[Parallel(n_jobs=1)]: Done  41 out of  41 | elapsed:   52.4s remaining:    0.0s\n",
            "[CV] C=80, kernel=linear .............................................\n",
            "[CV] ................. C=80, kernel=linear, score=0.951, total=   1.3s\n",
            "[Parallel(n_jobs=1)]: Done  42 out of  42 | elapsed:   53.7s remaining:    0.0s\n",
            "[CV] C=80, kernel=linear .............................................\n",
            "[CV] ................. C=80, kernel=linear, score=0.800, total=   1.3s\n",
            "[Parallel(n_jobs=1)]: Done  43 out of  43 | elapsed:   55.0s remaining:    0.0s\n",
            "[CV] C=80, kernel=linear .............................................\n",
            "[CV] ................. C=80, kernel=linear, score=0.725, total=   1.3s\n",
            "[Parallel(n_jobs=1)]: Done  44 out of  44 | elapsed:   56.3s remaining:    0.0s\n",
            "[CV] C=80, kernel=linear .............................................\n",
            "[CV] ................. C=80, kernel=linear, score=0.925, total=   1.3s\n",
            "[Parallel(n_jobs=1)]: Done  45 out of  45 | elapsed:   57.6s remaining:    0.0s\n",
            "[Parallel(n_jobs=1)]: Done  45 out of  45 | elapsed:   57.6s finished\n",
            "6.772371810565248\n"
          ],
          "name": "stdout"
        }
      ]
    },
    {
      "cell_type": "code",
      "metadata": {
        "id": "hPBHLXsYkbFi",
        "colab": {
          "base_uri": "https://localhost:8080/"
        },
        "outputId": "27bb42bb-f358-408b-8390-8fcf303330cb"
      },
      "source": [
        "print(\"Classification report for classifier %s:\\n%s\\n\"\n",
        "      % (final_model, metrics.classification_report(y_hog_test, pred_final)))"
      ],
      "execution_count": null,
      "outputs": [
        {
          "output_type": "stream",
          "text": [
            "Classification report for classifier VotingClassifier(estimators=[('KNN_Simple',\n",
            "                              KNeighborsClassifier(algorithm='auto',\n",
            "                                                   leaf_size=30,\n",
            "                                                   metric='minkowski',\n",
            "                                                   metric_params=None,\n",
            "                                                   n_jobs=None, n_neighbors=1,\n",
            "                                                   p=2, weights='uniform')),\n",
            "                             ('SVM_HOG',\n",
            "                              GridSearchCV(cv=None, error_score=nan,\n",
            "                                           estimator=SVC(C=1.0,\n",
            "                                                         break_ties=False,\n",
            "                                                         cache_size=200,\n",
            "                                                         class_weight=None,\n",
            "                                                         coef0=0.0,\n",
            "                                                         decision_function_shape='ovr',\n",
            "                                                         degree=3,\n",
            "                                                         g...e',\n",
            "                                                         kernel='rbf',\n",
            "                                                         max_iter=-1,\n",
            "                                                         probability=False,\n",
            "                                                         random_state=None,\n",
            "                                                         shrinking=True,\n",
            "                                                         tol=0.001,\n",
            "                                                         verbose=False),\n",
            "                                           iid='deprecated', n_jobs=None,\n",
            "                                           param_grid=[{'C': [1, 10, 20, 30, 40,\n",
            "                                                              50, 60, 70, 80],\n",
            "                                                        'kernel': ['linear']}],\n",
            "                                           pre_dispatch='2*n_jobs', refit=True,\n",
            "                                           return_train_score=False,\n",
            "                                           scoring=None, verbose=100))],\n",
            "                 flatten_transform=True, n_jobs=None, voting='hard',\n",
            "                 weights=None):\n",
            "              precision    recall  f1-score   support\n",
            "\n",
            "           0       0.75      0.82      0.78        22\n",
            "           1       0.85      0.79      0.82        29\n",
            "\n",
            "    accuracy                           0.80        51\n",
            "   macro avg       0.80      0.81      0.80        51\n",
            "weighted avg       0.81      0.80      0.80        51\n",
            "\n",
            "\n"
          ],
          "name": "stdout"
        }
      ]
    },
    {
      "cell_type": "code",
      "metadata": {
        "id": "rAjQF1yxhVg6"
      },
      "source": [
        "\n",
        "# save the model to disk\n",
        "filename = '/content/drive/MyDrive/brain_tumor/final_model.h5'\n",
        "pickle.dump(final_model, open(filename, 'wb'))\n",
        "#final_model.save('/content/drive/MyDrive/brain_tumor/final_model.h5')"
      ],
      "execution_count": null,
      "outputs": []
    },
    {
      "cell_type": "code",
      "metadata": {
        "colab": {
          "base_uri": "https://localhost:8080/"
        },
        "id": "4j4yQKsFhj6A",
        "outputId": "41af4f53-ba8d-40ef-efe6-74a3f7f89ef0"
      },
      "source": [
        "# load the model from disk\n",
        "filename = '/content/drive/MyDrive/brain_tumor/final_model.h5'\n",
        "loaded_model = pickle.load(open(filename, 'rb'))\n",
        "result = loaded_model.score(X_hog_train, y_hog_train)\n",
        "print(result)\n",
        "#my_model = load_model('/content/drive/MyDrive/brain_tumor/final_model.h5')"
      ],
      "execution_count": null,
      "outputs": [
        {
          "output_type": "stream",
          "text": [
            "1.0\n"
          ],
          "name": "stdout"
        }
      ]
    },
    {
      "cell_type": "code",
      "metadata": {
        "id": "quUofdXnhsdX"
      },
      "source": [
        "from sklearn import tree"
      ],
      "execution_count": null,
      "outputs": []
    },
    {
      "cell_type": "code",
      "metadata": {
        "id": "6vQ8hMqV0MZ-",
        "colab": {
          "base_uri": "https://localhost:8080/"
        },
        "outputId": "cd74758e-a8f3-4975-c8a5-0728546b640f"
      },
      "source": [
        "classifier_decision_tree = tree.DecisionTreeClassifier()\n",
        "classifier_decision_tree.fit(X_hog_train,y_hog_train)"
      ],
      "execution_count": null,
      "outputs": [
        {
          "output_type": "execute_result",
          "data": {
            "text/plain": [
              "DecisionTreeClassifier(ccp_alpha=0.0, class_weight=None, criterion='gini',\n",
              "                       max_depth=None, max_features=None, max_leaf_nodes=None,\n",
              "                       min_impurity_decrease=0.0, min_impurity_split=None,\n",
              "                       min_samples_leaf=1, min_samples_split=2,\n",
              "                       min_weight_fraction_leaf=0.0, presort='deprecated',\n",
              "                       random_state=None, splitter='best')"
            ]
          },
          "metadata": {
            "tags": []
          },
          "execution_count": 60
        }
      ]
    },
    {
      "cell_type": "code",
      "metadata": {
        "id": "9aywL_ok0oTA",
        "colab": {
          "base_uri": "https://localhost:8080/",
          "height": 612
        },
        "outputId": "1a4a1052-acd2-4398-cfba-975894bf22b4"
      },
      "source": [
        "tree.plot_tree(classifier_decision_tree)"
      ],
      "execution_count": null,
      "outputs": [
        {
          "output_type": "execute_result",
          "data": {
            "text/plain": [
              "[Text(167.4, 201.90857142857143, 'X[23106] <= 0.04\\ngini = 0.469\\nsamples = 202\\nvalue = [76, 126]'),\n",
              " Text(83.7, 170.84571428571428, 'X[12085] <= 0.166\\ngini = 0.328\\nsamples = 63\\nvalue = [50, 13]'),\n",
              " Text(41.85, 139.78285714285715, 'X[16099] <= 0.019\\ngini = 0.145\\nsamples = 51\\nvalue = [47, 4]'),\n",
              " Text(20.925, 108.72, 'gini = 0.0\\nsamples = 4\\nvalue = [0, 4]'),\n",
              " Text(62.775000000000006, 108.72, 'gini = 0.0\\nsamples = 47\\nvalue = [47, 0]'),\n",
              " Text(125.55000000000001, 139.78285714285715, 'X[15107] <= 0.086\\ngini = 0.375\\nsamples = 12\\nvalue = [3, 9]'),\n",
              " Text(104.625, 108.72, 'gini = 0.0\\nsamples = 3\\nvalue = [3, 0]'),\n",
              " Text(146.475, 108.72, 'gini = 0.0\\nsamples = 9\\nvalue = [0, 9]'),\n",
              " Text(251.10000000000002, 170.84571428571428, 'X[18117] <= 0.293\\ngini = 0.304\\nsamples = 139\\nvalue = [26, 113]'),\n",
              " Text(209.25, 139.78285714285715, 'X[5713] <= 0.045\\ngini = 0.189\\nsamples = 123\\nvalue = [13, 110]'),\n",
              " Text(188.32500000000002, 108.72, 'gini = 0.0\\nsamples = 5\\nvalue = [5, 0]'),\n",
              " Text(230.175, 108.72, 'X[2415] <= 0.004\\ngini = 0.126\\nsamples = 118\\nvalue = [8, 110]'),\n",
              " Text(209.25, 77.65714285714284, 'gini = 0.0\\nsamples = 4\\nvalue = [4, 0]'),\n",
              " Text(251.10000000000002, 77.65714285714284, 'X[559] <= 0.286\\ngini = 0.068\\nsamples = 114\\nvalue = [4, 110]'),\n",
              " Text(230.175, 46.59428571428572, 'X[20656] <= 0.294\\ngini = 0.035\\nsamples = 112\\nvalue = [2, 110]'),\n",
              " Text(209.25, 15.531428571428563, 'gini = 0.0\\nsamples = 110\\nvalue = [0, 110]'),\n",
              " Text(251.10000000000002, 15.531428571428563, 'gini = 0.0\\nsamples = 2\\nvalue = [2, 0]'),\n",
              " Text(272.02500000000003, 46.59428571428572, 'gini = 0.0\\nsamples = 2\\nvalue = [2, 0]'),\n",
              " Text(292.95, 139.78285714285715, 'X[20538] <= 0.012\\ngini = 0.305\\nsamples = 16\\nvalue = [13, 3]'),\n",
              " Text(272.02500000000003, 108.72, 'gini = 0.0\\nsamples = 3\\nvalue = [0, 3]'),\n",
              " Text(313.875, 108.72, 'gini = 0.0\\nsamples = 13\\nvalue = [13, 0]')]"
            ]
          },
          "metadata": {
            "tags": []
          },
          "execution_count": 61
        },
        {
          "output_type": "display_data",
          "data": {
            "image/png": "[encoded data removed]",
            "text/plain": [
              "<Figure size 432x288 with 1 Axes>"
            ]
          },
          "metadata": {
            "tags": [],
            "needs_background": "light"
          }
        }
      ]
    },
    {
      "cell_type": "code",
      "metadata": {
        "id": "gzC_Ouj505SC",
        "colab": {
          "base_uri": "https://localhost:8080/"
        },
        "outputId": "6de7684e-ae5c-4040-9f2b-62892e9dd553"
      },
      "source": [
        "classifier_decision_tree.score(X_hog_test, y_hog_test)"
      ],
      "execution_count": null,
      "outputs": [
        {
          "output_type": "execute_result",
          "data": {
            "text/plain": [
              "0.7843137254901961"
            ]
          },
          "metadata": {
            "tags": []
          },
          "execution_count": 62
        }
      ]
    },
    {
      "cell_type": "code",
      "metadata": {
        "id": "5JyRYkeT5L1-",
        "colab": {
          "base_uri": "https://localhost:8080/",
          "height": 319
        },
        "outputId": "d41caa59-3d25-4479-e26b-2cfb2c303123"
      },
      "source": [
        "from sklearn.model_selection import KFold\n",
        "import matplotlib.pyplot as plt\n",
        "import seaborn as sns\n",
        "import pandas as pd\n",
        "from sklearn import metrics\n",
        "sns.set()\n",
        "import warnings\n",
        "warnings.filterwarnings('ignore')\n",
        "%matplotlib inline\n",
        "\n",
        "y_pred = classifier_decision_tree.predict(X_hog_test)\n",
        "cnf_matrix = metrics.confusion_matrix(y_hog_test, y_pred)\n",
        "p = sns.heatmap(pd.DataFrame(cnf_matrix), annot=True, cmap=\"YlGnBu\" ,fmt='g')\n",
        "plt.title('Confusion matrix', y=1.1)\n",
        "plt.ylabel('Actual label')\n",
        "plt.xlabel('Predicted label')"
      ],
      "execution_count": null,
      "outputs": [
        {
          "output_type": "execute_result",
          "data": {
            "text/plain": [
              "Text(0.5, 12.5, 'Predicted label')"
            ]
          },
          "metadata": {
            "tags": []
          },
          "execution_count": 63
        },
        {
          "output_type": "display_data",
          "data": {
            "image/png": "[encoded data removed]",
            "text/plain": [
              "<Figure size 432x288 with 2 Axes>"
            ]
          },
          "metadata": {
            "tags": [],
            "needs_background": "light"
          }
        }
      ]
    },
    {
      "cell_type": "code",
      "metadata": {
        "id": "1yqTJPgb1hIs",
        "colab": {
          "base_uri": "https://localhost:8080/"
        },
        "outputId": "f9b300e4-c4a9-4f2b-e812-68a4bd093383"
      },
      "source": [
        "from sklearn.linear_model import SGDClassifier\n",
        "\n",
        "sgd = SGDClassifier(loss='hinge', penalty='l2',alpha=1e-3, random_state=42, max_iter=5, tol=None)\n",
        "sgd.fit(X_hog_train, y_hog_train)\n",
        "sgd.score(X_hog_test,y_hog_test)"
      ],
      "execution_count": null,
      "outputs": [
        {
          "output_type": "execute_result",
          "data": {
            "text/plain": [
              "0.8431372549019608"
            ]
          },
          "metadata": {
            "tags": []
          },
          "execution_count": 64
        }
      ]
    },
    {
      "cell_type": "code",
      "metadata": {
        "id": "VE3YZMAW2vvK",
        "colab": {
          "base_uri": "https://localhost:8080/",
          "height": 319
        },
        "outputId": "610b813a-9d91-4e71-d753-9eb4cffe8f06"
      },
      "source": [
        "from sklearn.model_selection import KFold\n",
        "import matplotlib.pyplot as plt\n",
        "import seaborn as sns\n",
        "import pandas as pd\n",
        "from sklearn import metrics\n",
        "sns.set()\n",
        "import warnings\n",
        "warnings.filterwarnings('ignore')\n",
        "%matplotlib inline\n",
        "\n",
        "y_pred = sgd.predict(X_hog_test)\n",
        "cnf_matrix = metrics.confusion_matrix(y_hog_test, y_pred)\n",
        "p = sns.heatmap(pd.DataFrame(cnf_matrix), annot=True, cmap=\"YlGnBu\" ,fmt='g')\n",
        "plt.title('Confusion matrix', y=1.1)\n",
        "plt.ylabel('Actual label')\n",
        "plt.xlabel('Predicted label')"
      ],
      "execution_count": null,
      "outputs": [
        {
          "output_type": "execute_result",
          "data": {
            "text/plain": [
              "Text(0.5, 12.5, 'Predicted label')"
            ]
          },
          "metadata": {
            "tags": []
          },
          "execution_count": 65
        },
        {
          "output_type": "display_data",
          "data": {
            "image/png": "[encoded data removed]",
            "text/plain": [
              "<Figure size 432x288 with 2 Axes>"
            ]
          },
          "metadata": {
            "tags": [],
            "needs_background": "light"
          }
        }
      ]
    },
    {
      "cell_type": "code",
      "metadata": {
        "id": "YbyJwkhGV2QD"
      },
      "source": [
        ""
      ],
      "execution_count": null,
      "outputs": []
    },
    {
      "cell_type": "markdown",
      "metadata": {
        "id": "Bd3Lnmr5W9RA"
      },
      "source": [
        "Added 3 clssifier\n"
      ]
    },
    {
      "cell_type": "code",
      "metadata": {
        "id": "fb95Lttx47hs",
        "colab": {
          "base_uri": "https://localhost:8080/"
        },
        "outputId": "229b0a9c-47c2-4958-d6a8-162462de5b2d"
      },
      "source": [
        "# Making the final model using voting classifier\n",
        "final_model = VotingClassifier(\n",
        "    estimators=[('KNN_Simple',knn), ('SVM_HOG', classifier),('SGD_HOG',sgd)], voting='hard')\n",
        " \n",
        "# training all the model on the train dataset\n",
        "final_model.fit(X_hog_train, y_hog_train)\n",
        " \n",
        "# predicting the output on the test dataset\n",
        "pred_final = final_model.predict(X_hog_test)\n",
        " \n",
        "# printing log loss between actual and predicted value\n",
        "print(log_loss(y_hog_test, pred_final))"
      ],
      "execution_count": null,
      "outputs": [
        {
          "output_type": "stream",
          "text": [
            "Fitting 5 folds for each of 9 candidates, totalling 45 fits\n",
            "[Parallel(n_jobs=1)]: Using backend SequentialBackend with 1 concurrent workers.\n",
            "[CV] C=1, kernel=linear ..............................................\n",
            "[CV] .................. C=1, kernel=linear, score=0.805, total=   1.3s\n",
            "[Parallel(n_jobs=1)]: Done   1 out of   1 | elapsed:    1.3s remaining:    0.0s\n",
            "[CV] C=1, kernel=linear ..............................................\n",
            "[CV] .................. C=1, kernel=linear, score=0.951, total=   1.3s\n",
            "[Parallel(n_jobs=1)]: Done   2 out of   2 | elapsed:    2.6s remaining:    0.0s\n",
            "[CV] C=1, kernel=linear ..............................................\n",
            "[CV] .................. C=1, kernel=linear, score=0.800, total=   1.3s\n",
            "[Parallel(n_jobs=1)]: Done   3 out of   3 | elapsed:    3.9s remaining:    0.0s\n",
            "[CV] C=1, kernel=linear ..............................................\n",
            "[CV] .................. C=1, kernel=linear, score=0.725, total=   1.4s\n",
            "[Parallel(n_jobs=1)]: Done   4 out of   4 | elapsed:    5.4s remaining:    0.0s\n",
            "[CV] C=1, kernel=linear ..............................................\n",
            "[CV] .................. C=1, kernel=linear, score=0.925, total=   1.3s\n",
            "[Parallel(n_jobs=1)]: Done   5 out of   5 | elapsed:    6.7s remaining:    0.0s\n",
            "[CV] C=10, kernel=linear .............................................\n",
            "[CV] ................. C=10, kernel=linear, score=0.805, total=   1.3s\n",
            "[Parallel(n_jobs=1)]: Done   6 out of   6 | elapsed:    7.9s remaining:    0.0s\n",
            "[CV] C=10, kernel=linear .............................................\n",
            "[CV] ................. C=10, kernel=linear, score=0.951, total=   1.3s\n",
            "[Parallel(n_jobs=1)]: Done   7 out of   7 | elapsed:    9.2s remaining:    0.0s\n",
            "[CV] C=10, kernel=linear .............................................\n",
            "[CV] ................. C=10, kernel=linear, score=0.800, total=   1.3s\n",
            "[Parallel(n_jobs=1)]: Done   8 out of   8 | elapsed:   10.5s remaining:    0.0s\n",
            "[CV] C=10, kernel=linear .............................................\n",
            "[CV] ................. C=10, kernel=linear, score=0.725, total=   1.3s\n",
            "[Parallel(n_jobs=1)]: Done   9 out of   9 | elapsed:   11.8s remaining:    0.0s\n",
            "[CV] C=10, kernel=linear .............................................\n",
            "[CV] ................. C=10, kernel=linear, score=0.925, total=   1.3s\n",
            "[Parallel(n_jobs=1)]: Done  10 out of  10 | elapsed:   13.1s remaining:    0.0s\n",
            "[CV] C=20, kernel=linear .............................................\n",
            "[CV] ................. C=20, kernel=linear, score=0.805, total=   1.3s\n",
            "[Parallel(n_jobs=1)]: Done  11 out of  11 | elapsed:   14.4s remaining:    0.0s\n",
            "[CV] C=20, kernel=linear .............................................\n",
            "[CV] ................. C=20, kernel=linear, score=0.951, total=   1.3s\n",
            "[Parallel(n_jobs=1)]: Done  12 out of  12 | elapsed:   15.7s remaining:    0.0s\n",
            "[CV] C=20, kernel=linear .............................................\n",
            "[CV] ................. C=20, kernel=linear, score=0.800, total=   1.3s\n",
            "[Parallel(n_jobs=1)]: Done  13 out of  13 | elapsed:   17.0s remaining:    0.0s\n",
            "[CV] C=20, kernel=linear .............................................\n",
            "[CV] ................. C=20, kernel=linear, score=0.725, total=   1.3s\n",
            "[Parallel(n_jobs=1)]: Done  14 out of  14 | elapsed:   18.3s remaining:    0.0s\n",
            "[CV] C=20, kernel=linear .............................................\n",
            "[CV] ................. C=20, kernel=linear, score=0.925, total=   1.3s\n",
            "[Parallel(n_jobs=1)]: Done  15 out of  15 | elapsed:   19.6s remaining:    0.0s\n",
            "[CV] C=30, kernel=linear .............................................\n",
            "[CV] ................. C=30, kernel=linear, score=0.805, total=   1.3s\n",
            "[Parallel(n_jobs=1)]: Done  16 out of  16 | elapsed:   20.9s remaining:    0.0s\n",
            "[CV] C=30, kernel=linear .............................................\n",
            "[CV] ................. C=30, kernel=linear, score=0.951, total=   1.3s\n",
            "[Parallel(n_jobs=1)]: Done  17 out of  17 | elapsed:   22.2s remaining:    0.0s\n",
            "[CV] C=30, kernel=linear .............................................\n",
            "[CV] ................. C=30, kernel=linear, score=0.800, total=   1.3s\n",
            "[Parallel(n_jobs=1)]: Done  18 out of  18 | elapsed:   23.4s remaining:    0.0s\n",
            "[CV] C=30, kernel=linear .............................................\n",
            "[CV] ................. C=30, kernel=linear, score=0.725, total=   1.3s\n",
            "[Parallel(n_jobs=1)]: Done  19 out of  19 | elapsed:   24.7s remaining:    0.0s\n",
            "[CV] C=30, kernel=linear .............................................\n",
            "[CV] ................. C=30, kernel=linear, score=0.925, total=   1.3s\n",
            "[Parallel(n_jobs=1)]: Done  20 out of  20 | elapsed:   26.0s remaining:    0.0s\n",
            "[CV] C=40, kernel=linear .............................................\n",
            "[CV] ................. C=40, kernel=linear, score=0.805, total=   1.3s\n",
            "[Parallel(n_jobs=1)]: Done  21 out of  21 | elapsed:   27.3s remaining:    0.0s\n",
            "[CV] C=40, kernel=linear .............................................\n",
            "[CV] ................. C=40, kernel=linear, score=0.951, total=   1.3s\n",
            "[Parallel(n_jobs=1)]: Done  22 out of  22 | elapsed:   28.6s remaining:    0.0s\n",
            "[CV] C=40, kernel=linear .............................................\n",
            "[CV] ................. C=40, kernel=linear, score=0.800, total=   1.3s\n",
            "[Parallel(n_jobs=1)]: Done  23 out of  23 | elapsed:   29.9s remaining:    0.0s\n",
            "[CV] C=40, kernel=linear .............................................\n",
            "[CV] ................. C=40, kernel=linear, score=0.725, total=   1.3s\n",
            "[Parallel(n_jobs=1)]: Done  24 out of  24 | elapsed:   31.2s remaining:    0.0s\n",
            "[CV] C=40, kernel=linear .............................................\n",
            "[CV] ................. C=40, kernel=linear, score=0.925, total=   1.3s\n",
            "[Parallel(n_jobs=1)]: Done  25 out of  25 | elapsed:   32.4s remaining:    0.0s\n",
            "[CV] C=50, kernel=linear .............................................\n",
            "[CV] ................. C=50, kernel=linear, score=0.805, total=   1.3s\n",
            "[Parallel(n_jobs=1)]: Done  26 out of  26 | elapsed:   33.7s remaining:    0.0s\n",
            "[CV] C=50, kernel=linear .............................................\n",
            "[CV] ................. C=50, kernel=linear, score=0.951, total=   1.3s\n",
            "[Parallel(n_jobs=1)]: Done  27 out of  27 | elapsed:   35.0s remaining:    0.0s\n",
            "[CV] C=50, kernel=linear .............................................\n",
            "[CV] ................. C=50, kernel=linear, score=0.800, total=   1.3s\n",
            "[Parallel(n_jobs=1)]: Done  28 out of  28 | elapsed:   36.3s remaining:    0.0s\n",
            "[CV] C=50, kernel=linear .............................................\n",
            "[CV] ................. C=50, kernel=linear, score=0.725, total=   1.3s\n",
            "[Parallel(n_jobs=1)]: Done  29 out of  29 | elapsed:   37.6s remaining:    0.0s\n",
            "[CV] C=50, kernel=linear .............................................\n",
            "[CV] ................. C=50, kernel=linear, score=0.925, total=   1.3s\n",
            "[Parallel(n_jobs=1)]: Done  30 out of  30 | elapsed:   38.9s remaining:    0.0s\n",
            "[CV] C=60, kernel=linear .............................................\n",
            "[CV] ................. C=60, kernel=linear, score=0.805, total=   1.3s\n",
            "[Parallel(n_jobs=1)]: Done  31 out of  31 | elapsed:   40.2s remaining:    0.0s\n",
            "[CV] C=60, kernel=linear .............................................\n",
            "[CV] ................. C=60, kernel=linear, score=0.951, total=   1.3s\n",
            "[Parallel(n_jobs=1)]: Done  32 out of  32 | elapsed:   41.5s remaining:    0.0s\n",
            "[CV] C=60, kernel=linear .............................................\n",
            "[CV] ................. C=60, kernel=linear, score=0.800, total=   1.3s\n",
            "[Parallel(n_jobs=1)]: Done  33 out of  33 | elapsed:   42.7s remaining:    0.0s\n",
            "[CV] C=60, kernel=linear .............................................\n",
            "[CV] ................. C=60, kernel=linear, score=0.725, total=   1.3s\n",
            "[Parallel(n_jobs=1)]: Done  34 out of  34 | elapsed:   44.0s remaining:    0.0s\n",
            "[CV] C=60, kernel=linear .............................................\n",
            "[CV] ................. C=60, kernel=linear, score=0.925, total=   1.3s\n",
            "[Parallel(n_jobs=1)]: Done  35 out of  35 | elapsed:   45.3s remaining:    0.0s\n",
            "[CV] C=70, kernel=linear .............................................\n",
            "[CV] ................. C=70, kernel=linear, score=0.805, total=   1.3s\n",
            "[Parallel(n_jobs=1)]: Done  36 out of  36 | elapsed:   46.6s remaining:    0.0s\n",
            "[CV] C=70, kernel=linear .............................................\n",
            "[CV] ................. C=70, kernel=linear, score=0.951, total=   1.3s\n",
            "[Parallel(n_jobs=1)]: Done  37 out of  37 | elapsed:   47.9s remaining:    0.0s\n",
            "[CV] C=70, kernel=linear .............................................\n",
            "[CV] ................. C=70, kernel=linear, score=0.800, total=   1.3s\n",
            "[Parallel(n_jobs=1)]: Done  38 out of  38 | elapsed:   49.1s remaining:    0.0s\n",
            "[CV] C=70, kernel=linear .............................................\n",
            "[CV] ................. C=70, kernel=linear, score=0.725, total=   1.3s\n",
            "[Parallel(n_jobs=1)]: Done  39 out of  39 | elapsed:   50.4s remaining:    0.0s\n",
            "[CV] C=70, kernel=linear .............................................\n",
            "[CV] ................. C=70, kernel=linear, score=0.925, total=   1.3s\n",
            "[Parallel(n_jobs=1)]: Done  40 out of  40 | elapsed:   51.7s remaining:    0.0s\n",
            "[CV] C=80, kernel=linear .............................................\n",
            "[CV] ................. C=80, kernel=linear, score=0.805, total=   1.3s\n",
            "[Parallel(n_jobs=1)]: Done  41 out of  41 | elapsed:   53.0s remaining:    0.0s\n",
            "[CV] C=80, kernel=linear .............................................\n",
            "[CV] ................. C=80, kernel=linear, score=0.951, total=   1.3s\n",
            "[Parallel(n_jobs=1)]: Done  42 out of  42 | elapsed:   54.3s remaining:    0.0s\n",
            "[CV] C=80, kernel=linear .............................................\n",
            "[CV] ................. C=80, kernel=linear, score=0.800, total=   1.3s\n",
            "[Parallel(n_jobs=1)]: Done  43 out of  43 | elapsed:   55.6s remaining:    0.0s\n",
            "[CV] C=80, kernel=linear .............................................\n",
            "[CV] ................. C=80, kernel=linear, score=0.725, total=   1.3s\n",
            "[Parallel(n_jobs=1)]: Done  44 out of  44 | elapsed:   56.8s remaining:    0.0s\n",
            "[CV] C=80, kernel=linear .............................................\n",
            "[CV] ................. C=80, kernel=linear, score=0.925, total=   1.3s\n",
            "[Parallel(n_jobs=1)]: Done  45 out of  45 | elapsed:   58.1s remaining:    0.0s\n",
            "[Parallel(n_jobs=1)]: Done  45 out of  45 | elapsed:   58.1s finished\n",
            "4.740679081452854\n"
          ],
          "name": "stdout"
        }
      ]
    },
    {
      "cell_type": "code",
      "metadata": {
        "id": "uHYAnGH8Xcy5",
        "colab": {
          "base_uri": "https://localhost:8080/"
        },
        "outputId": "8d63bec0-aa78-438e-ec42-780eb6c84519"
      },
      "source": [
        "print(\"Classification report for classifier %s:\\n%s\\n\"\n",
        "      % (final_model, metrics.classification_report(y_hog_test, pred_final)))"
      ],
      "execution_count": null,
      "outputs": [
        {
          "output_type": "stream",
          "text": [
            "Classification report for classifier VotingClassifier(estimators=[('KNN_Simple',\n",
            "                              KNeighborsClassifier(algorithm='auto',\n",
            "                                                   leaf_size=30,\n",
            "                                                   metric='minkowski',\n",
            "                                                   metric_params=None,\n",
            "                                                   n_jobs=None, n_neighbors=1,\n",
            "                                                   p=2, weights='uniform')),\n",
            "                             ('SVM_HOG',\n",
            "                              GridSearchCV(cv=None, error_score=nan,\n",
            "                                           estimator=SVC(C=1.0,\n",
            "                                                         break_ties=False,\n",
            "                                                         cache_size=200,\n",
            "                                                         class_weight=None,\n",
            "                                                         coef0=0.0,\n",
            "                                                         decision_function_shape='ovr',\n",
            "                                                         degree=3,\n",
            "                                                         g...\n",
            "                                            class_weight=None,\n",
            "                                            early_stopping=False, epsilon=0.1,\n",
            "                                            eta0=0.0, fit_intercept=True,\n",
            "                                            l1_ratio=0.15,\n",
            "                                            learning_rate='optimal',\n",
            "                                            loss='hinge', max_iter=5,\n",
            "                                            n_iter_no_change=5, n_jobs=None,\n",
            "                                            penalty='l2', power_t=0.5,\n",
            "                                            random_state=42, shuffle=True,\n",
            "                                            tol=None, validation_fraction=0.1,\n",
            "                                            verbose=0, warm_start=False))],\n",
            "                 flatten_transform=True, n_jobs=None, voting='hard',\n",
            "                 weights=None):\n",
            "              precision    recall  f1-score   support\n",
            "\n",
            "           0       0.86      0.82      0.84        22\n",
            "           1       0.87      0.90      0.88        29\n",
            "\n",
            "    accuracy                           0.86        51\n",
            "   macro avg       0.86      0.86      0.86        51\n",
            "weighted avg       0.86      0.86      0.86        51\n",
            "\n",
            "\n"
          ],
          "name": "stdout"
        }
      ]
    },
    {
      "cell_type": "code",
      "metadata": {
        "id": "VWcfdhumXkaV",
        "colab": {
          "base_uri": "https://localhost:8080/",
          "height": 319
        },
        "outputId": "9892e3de-5916-401d-9e45-0581c46cc85c"
      },
      "source": [
        "from sklearn.model_selection import KFold\n",
        "import matplotlib.pyplot as plt\n",
        "import seaborn as sns\n",
        "import pandas as pd\n",
        "from sklearn import metrics\n",
        "sns.set()\n",
        "import warnings\n",
        "warnings.filterwarnings('ignore')\n",
        "%matplotlib inline\n",
        "\n",
        "y_pred = final_model.predict(X_hog_test)\n",
        "cnf_matrix = metrics.confusion_matrix(y_hog_test, y_pred)\n",
        "p = sns.heatmap(pd.DataFrame(cnf_matrix), annot=True, cmap=\"YlGnBu\" ,fmt='g')\n",
        "plt.title('Confusion matrix', y=1.1)\n",
        "plt.ylabel('Actual label')\n",
        "plt.xlabel('Predicted label')"
      ],
      "execution_count": null,
      "outputs": [
        {
          "output_type": "execute_result",
          "data": {
            "text/plain": [
              "Text(0.5, 12.5, 'Predicted label')"
            ]
          },
          "metadata": {
            "tags": []
          },
          "execution_count": 68
        },
        {
          "output_type": "display_data",
          "data": {
            "image/png": "[encoded data removed]",
            "text/plain": [
              "<Figure size 432x288 with 2 Axes>"
            ]
          },
          "metadata": {
            "tags": [],
            "needs_background": "light"
          }
        }
      ]
    },
    {
      "cell_type": "code",
      "metadata": {
        "id": "UMUE6eSwVDkS",
        "colab": {
          "base_uri": "https://localhost:8080/"
        },
        "outputId": "fb91c6f7-36b1-4d81-8c4c-a92d33546893"
      },
      "source": [
        "# Create a classifier: a support vector classifier\n",
        "param_grid = [\n",
        "  {'C': [1, 10,20,30,40,50,60,70,80], 'kernel': ['linear']},\n",
        " ]\n",
        "svc = svm.SVC()\n",
        "classifier = GridSearchCV(svc, param_grid, verbose = 100)\n",
        "classifier.fit(X_hog_train, y_hog_train)\n",
        "#fit to the training data"
      ],
      "execution_count": null,
      "outputs": [
        {
          "output_type": "stream",
          "text": [
            "Fitting 5 folds for each of 9 candidates, totalling 45 fits\n",
            "[Parallel(n_jobs=1)]: Using backend SequentialBackend with 1 concurrent workers.\n",
            "[CV] C=1, kernel=linear ..............................................\n",
            "[CV] .................. C=1, kernel=linear, score=0.805, total=   1.3s\n",
            "[Parallel(n_jobs=1)]: Done   1 out of   1 | elapsed:    1.3s remaining:    0.0s\n",
            "[CV] C=1, kernel=linear ..............................................\n",
            "[CV] .................. C=1, kernel=linear, score=0.951, total=   1.3s\n",
            "[Parallel(n_jobs=1)]: Done   2 out of   2 | elapsed:    2.6s remaining:    0.0s\n",
            "[CV] C=1, kernel=linear ..............................................\n",
            "[CV] .................. C=1, kernel=linear, score=0.800, total=   1.3s\n",
            "[Parallel(n_jobs=1)]: Done   3 out of   3 | elapsed:    3.9s remaining:    0.0s\n",
            "[CV] C=1, kernel=linear ..............................................\n",
            "[CV] .................. C=1, kernel=linear, score=0.725, total=   1.3s\n",
            "[Parallel(n_jobs=1)]: Done   4 out of   4 | elapsed:    5.2s remaining:    0.0s\n",
            "[CV] C=1, kernel=linear ..............................................\n",
            "[CV] .................. C=1, kernel=linear, score=0.925, total=   1.3s\n",
            "[Parallel(n_jobs=1)]: Done   5 out of   5 | elapsed:    6.5s remaining:    0.0s\n",
            "[CV] C=10, kernel=linear .............................................\n",
            "[CV] ................. C=10, kernel=linear, score=0.805, total=   1.3s\n",
            "[Parallel(n_jobs=1)]: Done   6 out of   6 | elapsed:    7.7s remaining:    0.0s\n",
            "[CV] C=10, kernel=linear .............................................\n",
            "[CV] ................. C=10, kernel=linear, score=0.951, total=   1.3s\n",
            "[Parallel(n_jobs=1)]: Done   7 out of   7 | elapsed:    9.0s remaining:    0.0s\n",
            "[CV] C=10, kernel=linear .............................................\n",
            "[CV] ................. C=10, kernel=linear, score=0.800, total=   1.3s\n",
            "[Parallel(n_jobs=1)]: Done   8 out of   8 | elapsed:   10.3s remaining:    0.0s\n",
            "[CV] C=10, kernel=linear .............................................\n",
            "[CV] ................. C=10, kernel=linear, score=0.725, total=   1.3s\n",
            "[Parallel(n_jobs=1)]: Done   9 out of   9 | elapsed:   11.6s remaining:    0.0s\n",
            "[CV] C=10, kernel=linear .............................................\n",
            "[CV] ................. C=10, kernel=linear, score=0.925, total=   1.3s\n",
            "[Parallel(n_jobs=1)]: Done  10 out of  10 | elapsed:   12.9s remaining:    0.0s\n",
            "[CV] C=20, kernel=linear .............................................\n",
            "[CV] ................. C=20, kernel=linear, score=0.805, total=   1.3s\n",
            "[Parallel(n_jobs=1)]: Done  11 out of  11 | elapsed:   14.2s remaining:    0.0s\n",
            "[CV] C=20, kernel=linear .............................................\n",
            "[CV] ................. C=20, kernel=linear, score=0.951, total=   1.3s\n",
            "[Parallel(n_jobs=1)]: Done  12 out of  12 | elapsed:   15.5s remaining:    0.0s\n",
            "[CV] C=20, kernel=linear .............................................\n",
            "[CV] ................. C=20, kernel=linear, score=0.800, total=   1.3s\n",
            "[Parallel(n_jobs=1)]: Done  13 out of  13 | elapsed:   16.8s remaining:    0.0s\n",
            "[CV] C=20, kernel=linear .............................................\n",
            "[CV] ................. C=20, kernel=linear, score=0.725, total=   1.3s\n",
            "[Parallel(n_jobs=1)]: Done  14 out of  14 | elapsed:   18.0s remaining:    0.0s\n",
            "[CV] C=20, kernel=linear .............................................\n",
            "[CV] ................. C=20, kernel=linear, score=0.925, total=   1.3s\n",
            "[Parallel(n_jobs=1)]: Done  15 out of  15 | elapsed:   19.3s remaining:    0.0s\n",
            "[CV] C=30, kernel=linear .............................................\n",
            "[CV] ................. C=30, kernel=linear, score=0.805, total=   1.3s\n",
            "[Parallel(n_jobs=1)]: Done  16 out of  16 | elapsed:   20.6s remaining:    0.0s\n",
            "[CV] C=30, kernel=linear .............................................\n",
            "[CV] ................. C=30, kernel=linear, score=0.951, total=   1.3s\n",
            "[Parallel(n_jobs=1)]: Done  17 out of  17 | elapsed:   21.9s remaining:    0.0s\n",
            "[CV] C=30, kernel=linear .............................................\n",
            "[CV] ................. C=30, kernel=linear, score=0.800, total=   1.3s\n",
            "[Parallel(n_jobs=1)]: Done  18 out of  18 | elapsed:   23.2s remaining:    0.0s\n",
            "[CV] C=30, kernel=linear .............................................\n",
            "[CV] ................. C=30, kernel=linear, score=0.725, total=   1.3s\n",
            "[Parallel(n_jobs=1)]: Done  19 out of  19 | elapsed:   24.5s remaining:    0.0s\n",
            "[CV] C=30, kernel=linear .............................................\n",
            "[CV] ................. C=30, kernel=linear, score=0.925, total=   1.3s\n",
            "[Parallel(n_jobs=1)]: Done  20 out of  20 | elapsed:   25.7s remaining:    0.0s\n",
            "[CV] C=40, kernel=linear .............................................\n",
            "[CV] ................. C=40, kernel=linear, score=0.805, total=   1.3s\n",
            "[Parallel(n_jobs=1)]: Done  21 out of  21 | elapsed:   27.0s remaining:    0.0s\n",
            "[CV] C=40, kernel=linear .............................................\n",
            "[CV] ................. C=40, kernel=linear, score=0.951, total=   1.3s\n",
            "[Parallel(n_jobs=1)]: Done  22 out of  22 | elapsed:   28.3s remaining:    0.0s\n",
            "[CV] C=40, kernel=linear .............................................\n",
            "[CV] ................. C=40, kernel=linear, score=0.800, total=   1.3s\n",
            "[Parallel(n_jobs=1)]: Done  23 out of  23 | elapsed:   29.6s remaining:    0.0s\n",
            "[CV] C=40, kernel=linear .............................................\n",
            "[CV] ................. C=40, kernel=linear, score=0.725, total=   1.3s\n",
            "[Parallel(n_jobs=1)]: Done  24 out of  24 | elapsed:   30.9s remaining:    0.0s\n",
            "[CV] C=40, kernel=linear .............................................\n",
            "[CV] ................. C=40, kernel=linear, score=0.925, total=   1.3s\n",
            "[Parallel(n_jobs=1)]: Done  25 out of  25 | elapsed:   32.2s remaining:    0.0s\n",
            "[CV] C=50, kernel=linear .............................................\n",
            "[CV] ................. C=50, kernel=linear, score=0.805, total=   1.3s\n",
            "[Parallel(n_jobs=1)]: Done  26 out of  26 | elapsed:   33.4s remaining:    0.0s\n",
            "[CV] C=50, kernel=linear .............................................\n",
            "[CV] ................. C=50, kernel=linear, score=0.951, total=   1.3s\n",
            "[Parallel(n_jobs=1)]: Done  27 out of  27 | elapsed:   34.7s remaining:    0.0s\n",
            "[CV] C=50, kernel=linear .............................................\n",
            "[CV] ................. C=50, kernel=linear, score=0.800, total=   1.3s\n",
            "[Parallel(n_jobs=1)]: Done  28 out of  28 | elapsed:   36.0s remaining:    0.0s\n",
            "[CV] C=50, kernel=linear .............................................\n",
            "[CV] ................. C=50, kernel=linear, score=0.725, total=   1.3s\n",
            "[Parallel(n_jobs=1)]: Done  29 out of  29 | elapsed:   37.3s remaining:    0.0s\n",
            "[CV] C=50, kernel=linear .............................................\n",
            "[CV] ................. C=50, kernel=linear, score=0.925, total=   1.3s\n",
            "[Parallel(n_jobs=1)]: Done  30 out of  30 | elapsed:   38.6s remaining:    0.0s\n",
            "[CV] C=60, kernel=linear .............................................\n",
            "[CV] ................. C=60, kernel=linear, score=0.805, total=   1.3s\n",
            "[Parallel(n_jobs=1)]: Done  31 out of  31 | elapsed:   39.9s remaining:    0.0s\n",
            "[CV] C=60, kernel=linear .............................................\n",
            "[CV] ................. C=60, kernel=linear, score=0.951, total=   1.3s\n",
            "[Parallel(n_jobs=1)]: Done  32 out of  32 | elapsed:   41.2s remaining:    0.0s\n",
            "[CV] C=60, kernel=linear .............................................\n",
            "[CV] ................. C=60, kernel=linear, score=0.800, total=   1.3s\n",
            "[Parallel(n_jobs=1)]: Done  33 out of  33 | elapsed:   42.4s remaining:    0.0s\n",
            "[CV] C=60, kernel=linear .............................................\n",
            "[CV] ................. C=60, kernel=linear, score=0.725, total=   1.3s\n",
            "[Parallel(n_jobs=1)]: Done  34 out of  34 | elapsed:   43.7s remaining:    0.0s\n",
            "[CV] C=60, kernel=linear .............................................\n",
            "[CV] ................. C=60, kernel=linear, score=0.925, total=   1.3s\n",
            "[Parallel(n_jobs=1)]: Done  35 out of  35 | elapsed:   45.0s remaining:    0.0s\n",
            "[CV] C=70, kernel=linear .............................................\n",
            "[CV] ................. C=70, kernel=linear, score=0.805, total=   1.3s\n",
            "[Parallel(n_jobs=1)]: Done  36 out of  36 | elapsed:   46.3s remaining:    0.0s\n",
            "[CV] C=70, kernel=linear .............................................\n",
            "[CV] ................. C=70, kernel=linear, score=0.951, total=   1.3s\n",
            "[Parallel(n_jobs=1)]: Done  37 out of  37 | elapsed:   47.6s remaining:    0.0s\n",
            "[CV] C=70, kernel=linear .............................................\n",
            "[CV] ................. C=70, kernel=linear, score=0.800, total=   1.3s\n",
            "[Parallel(n_jobs=1)]: Done  38 out of  38 | elapsed:   48.9s remaining:    0.0s\n",
            "[CV] C=70, kernel=linear .............................................\n",
            "[CV] ................. C=70, kernel=linear, score=0.725, total=   1.3s\n",
            "[Parallel(n_jobs=1)]: Done  39 out of  39 | elapsed:   50.2s remaining:    0.0s\n",
            "[CV] C=70, kernel=linear .............................................\n",
            "[CV] ................. C=70, kernel=linear, score=0.925, total=   1.3s\n",
            "[Parallel(n_jobs=1)]: Done  40 out of  40 | elapsed:   51.4s remaining:    0.0s\n",
            "[CV] C=80, kernel=linear .............................................\n",
            "[CV] ................. C=80, kernel=linear, score=0.805, total=   1.3s\n",
            "[Parallel(n_jobs=1)]: Done  41 out of  41 | elapsed:   52.7s remaining:    0.0s\n",
            "[CV] C=80, kernel=linear .............................................\n",
            "[CV] ................. C=80, kernel=linear, score=0.951, total=   1.3s\n",
            "[Parallel(n_jobs=1)]: Done  42 out of  42 | elapsed:   54.0s remaining:    0.0s\n",
            "[CV] C=80, kernel=linear .............................................\n",
            "[CV] ................. C=80, kernel=linear, score=0.800, total=   1.3s\n",
            "[Parallel(n_jobs=1)]: Done  43 out of  43 | elapsed:   55.3s remaining:    0.0s\n",
            "[CV] C=80, kernel=linear .............................................\n",
            "[CV] ................. C=80, kernel=linear, score=0.725, total=   1.3s\n",
            "[Parallel(n_jobs=1)]: Done  44 out of  44 | elapsed:   56.6s remaining:    0.0s\n",
            "[CV] C=80, kernel=linear .............................................\n",
            "[CV] ................. C=80, kernel=linear, score=0.925, total=   1.3s\n",
            "[Parallel(n_jobs=1)]: Done  45 out of  45 | elapsed:   57.9s remaining:    0.0s\n",
            "[Parallel(n_jobs=1)]: Done  45 out of  45 | elapsed:   57.9s finished\n"
          ],
          "name": "stdout"
        },
        {
          "output_type": "execute_result",
          "data": {
            "text/plain": [
              "GridSearchCV(cv=None, error_score=nan,\n",
              "             estimator=SVC(C=1.0, break_ties=False, cache_size=200,\n",
              "                           class_weight=None, coef0=0.0,\n",
              "                           decision_function_shape='ovr', degree=3,\n",
              "                           gamma='scale', kernel='rbf', max_iter=-1,\n",
              "                           probability=False, random_state=None, shrinking=True,\n",
              "                           tol=0.001, verbose=False),\n",
              "             iid='deprecated', n_jobs=None,\n",
              "             param_grid=[{'C': [1, 10, 20, 30, 40, 50, 60, 70, 80],\n",
              "                          'kernel': ['linear']}],\n",
              "             pre_dispatch='2*n_jobs', refit=True, return_train_score=False,\n",
              "             scoring=None, verbose=100)"
            ]
          },
          "metadata": {
            "tags": []
          },
          "execution_count": 69
        }
      ]
    },
    {
      "cell_type": "code",
      "metadata": {
        "id": "pxRo_XajWJuv",
        "colab": {
          "base_uri": "https://localhost:8080/"
        },
        "outputId": "747d84aa-0647-4ace-83c9-33ac3bb3c6aa"
      },
      "source": [
        "y_pred = classifier.predict(X_hog_test)\n",
        "print(\"Classification report for classifier %s:\\n%s\\n\"\n",
        "      % (classifier, metrics.classification_report(y_hog_test, y_pred)))"
      ],
      "execution_count": null,
      "outputs": [
        {
          "output_type": "stream",
          "text": [
            "Classification report for classifier GridSearchCV(cv=None, error_score=nan,\n",
            "             estimator=SVC(C=1.0, break_ties=False, cache_size=200,\n",
            "                           class_weight=None, coef0=0.0,\n",
            "                           decision_function_shape='ovr', degree=3,\n",
            "                           gamma='scale', kernel='rbf', max_iter=-1,\n",
            "                           probability=False, random_state=None, shrinking=True,\n",
            "                           tol=0.001, verbose=False),\n",
            "             iid='deprecated', n_jobs=None,\n",
            "             param_grid=[{'C': [1, 10, 20, 30, 40, 50, 60, 70, 80],\n",
            "                          'kernel': ['linear']}],\n",
            "             pre_dispatch='2*n_jobs', refit=True, return_train_score=False,\n",
            "             scoring=None, verbose=100):\n",
            "              precision    recall  f1-score   support\n",
            "\n",
            "           0       0.82      0.82      0.82        22\n",
            "           1       0.86      0.86      0.86        29\n",
            "\n",
            "    accuracy                           0.84        51\n",
            "   macro avg       0.84      0.84      0.84        51\n",
            "weighted avg       0.84      0.84      0.84        51\n",
            "\n",
            "\n"
          ],
          "name": "stdout"
        }
      ]
    },
    {
      "cell_type": "code",
      "metadata": {
        "id": "NAUrzCeQV_wK"
      },
      "source": [
        "knn = KNeighborsClassifier(n_neighbors = 1)\n",
        "knn.fit(X_hog_train, y_hog_train)\n",
        "knn.score(X_hog_test, y_hog_test)\n",
        "\n",
        "i = 1\n",
        "neighbours = []\n",
        "while i<176:    #n samples-1\n",
        "  knn = KNeighborsClassifier(n_neighbors = i)\n",
        "  knn.fit(X_hog_train, y_hog_train)\n",
        "  score = knn.score(X_hog_test, y_hog_test)\n",
        "  neighbours.append(score) \n",
        "  i = i+1"
      ],
      "execution_count": null,
      "outputs": []
    },
    {
      "cell_type": "code",
      "metadata": {
        "id": "RxJ7HGHtWws5",
        "colab": {
          "base_uri": "https://localhost:8080/"
        },
        "outputId": "8b607178-0d63-4812-e931-a2d6baa46d1f"
      },
      "source": [
        "max_value = max(neighbours) #max score value when neighbours = 97\n",
        "max_index = neighbours.index(max_value)\n",
        "\n",
        "knn = KNeighborsClassifier(n_neighbors = max_index + 1) # as we take \"i\" as 1 in first iteration\n",
        "knn.fit(X_hog_train, y_hog_train)\n",
        "knn.score(X_hog_test, y_hog_test)"
      ],
      "execution_count": null,
      "outputs": [
        {
          "output_type": "execute_result",
          "data": {
            "text/plain": [
              "0.8431372549019608"
            ]
          },
          "metadata": {
            "tags": []
          },
          "execution_count": 72
        }
      ]
    },
    {
      "cell_type": "code",
      "metadata": {
        "id": "VYoA2nHtW6Cs"
      },
      "source": [
        ""
      ],
      "execution_count": null,
      "outputs": []
    }
  ]
}